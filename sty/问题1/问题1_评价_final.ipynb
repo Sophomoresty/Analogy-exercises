{
 "cells": [
  {
   "cell_type": "code",
   "execution_count": 2,
   "id": "initial_id",
   "metadata": {
    "ExecuteTime": {
     "end_time": "2025-05-02T12:06:20.990903Z",
     "start_time": "2025-05-02T12:06:20.296498Z"
    },
    "collapsed": true
   },
   "outputs": [],
   "source": [
    "import os\n",
    "import pandas as pd\n",
    "from diet_analyzer import Evaluation, clean_food_code, get_major_food_group_from_code, count_food_types, \\\n",
    "    clean_food_code_main, find_project_root"
   ]
  },
  {
   "cell_type": "code",
   "execution_count": null,
   "id": "a8b876051abdfd89",
   "metadata": {
    "ExecuteTime": {
     "end_time": "2025-05-02T12:06:21.006904Z",
     "start_time": "2025-05-02T12:06:20.994899Z"
    }
   },
   "outputs": [],
   "source": [
    "project_root_path = find_project_root()\n",
    "\n",
    "file_names = ['附件1.xlsx', '附件2.xlsx', '附件3.xlsx']\n",
    "data_subdirectory = 'data'\n",
    "\n",
    "file_path = [os.path.join(project_root_path, data_subdirectory, name) for name in file_names]"
   ]
  },
  {
   "cell_type": "code",
   "execution_count": 5,
   "id": "2d937530b91bbc43",
   "metadata": {
    "ExecuteTime": {
     "end_time": "2025-05-02T12:06:21.493323Z",
     "start_time": "2025-05-02T12:06:21.260537Z"
    }
   },
   "outputs": [
    {
     "ename": "FileNotFoundError",
     "evalue": "[Errno 2] No such file or directory: '/home/sophomores/projects/Digital_model_5_1/data/附件1_处理_final.xlsx'",
     "output_type": "error",
     "traceback": [
      "\u001b[0;31m---------------------------------------------------------------------------\u001b[0m",
      "\u001b[0;31mFileNotFoundError\u001b[0m                         Traceback (most recent call last)",
      "Cell \u001b[0;32mIn[5], line 1\u001b[0m\n\u001b[0;32m----> 1\u001b[0m df_1 \u001b[38;5;241m=\u001b[39m \u001b[43mpd\u001b[49m\u001b[38;5;241;43m.\u001b[39;49m\u001b[43mread_excel\u001b[49m\u001b[43m(\u001b[49m\u001b[43mfile_path\u001b[49m\u001b[43m[\u001b[49m\u001b[38;5;241;43m0\u001b[39;49m\u001b[43m]\u001b[49m\u001b[43m)\u001b[49m\n\u001b[1;32m      2\u001b[0m df_2 \u001b[38;5;241m=\u001b[39m pd\u001b[38;5;241m.\u001b[39mread_excel(file_path[\u001b[38;5;241m1\u001b[39m])\n\u001b[1;32m      4\u001b[0m df_man, df_woman \u001b[38;5;241m=\u001b[39m [df\u001b[38;5;241m.\u001b[39mcopy() \u001b[38;5;28;01mfor\u001b[39;00m df \u001b[38;5;129;01min\u001b[39;00m [df_1, df_2]]\n",
      "File \u001b[0;32m~/miniforge3/envs/ds310/lib/python3.10/site-packages/pandas/io/excel/_base.py:495\u001b[0m, in \u001b[0;36mread_excel\u001b[0;34m(io, sheet_name, header, names, index_col, usecols, dtype, engine, converters, true_values, false_values, skiprows, nrows, na_values, keep_default_na, na_filter, verbose, parse_dates, date_parser, date_format, thousands, decimal, comment, skipfooter, storage_options, dtype_backend, engine_kwargs)\u001b[0m\n\u001b[1;32m    493\u001b[0m \u001b[38;5;28;01mif\u001b[39;00m \u001b[38;5;129;01mnot\u001b[39;00m \u001b[38;5;28misinstance\u001b[39m(io, ExcelFile):\n\u001b[1;32m    494\u001b[0m     should_close \u001b[38;5;241m=\u001b[39m \u001b[38;5;28;01mTrue\u001b[39;00m\n\u001b[0;32m--> 495\u001b[0m     io \u001b[38;5;241m=\u001b[39m \u001b[43mExcelFile\u001b[49m\u001b[43m(\u001b[49m\n\u001b[1;32m    496\u001b[0m \u001b[43m        \u001b[49m\u001b[43mio\u001b[49m\u001b[43m,\u001b[49m\n\u001b[1;32m    497\u001b[0m \u001b[43m        \u001b[49m\u001b[43mstorage_options\u001b[49m\u001b[38;5;241;43m=\u001b[39;49m\u001b[43mstorage_options\u001b[49m\u001b[43m,\u001b[49m\n\u001b[1;32m    498\u001b[0m \u001b[43m        \u001b[49m\u001b[43mengine\u001b[49m\u001b[38;5;241;43m=\u001b[39;49m\u001b[43mengine\u001b[49m\u001b[43m,\u001b[49m\n\u001b[1;32m    499\u001b[0m \u001b[43m        \u001b[49m\u001b[43mengine_kwargs\u001b[49m\u001b[38;5;241;43m=\u001b[39;49m\u001b[43mengine_kwargs\u001b[49m\u001b[43m,\u001b[49m\n\u001b[1;32m    500\u001b[0m \u001b[43m    \u001b[49m\u001b[43m)\u001b[49m\n\u001b[1;32m    501\u001b[0m \u001b[38;5;28;01melif\u001b[39;00m engine \u001b[38;5;129;01mand\u001b[39;00m engine \u001b[38;5;241m!=\u001b[39m io\u001b[38;5;241m.\u001b[39mengine:\n\u001b[1;32m    502\u001b[0m     \u001b[38;5;28;01mraise\u001b[39;00m \u001b[38;5;167;01mValueError\u001b[39;00m(\n\u001b[1;32m    503\u001b[0m         \u001b[38;5;124m\"\u001b[39m\u001b[38;5;124mEngine should not be specified when passing \u001b[39m\u001b[38;5;124m\"\u001b[39m\n\u001b[1;32m    504\u001b[0m         \u001b[38;5;124m\"\u001b[39m\u001b[38;5;124man ExcelFile - ExcelFile already has the engine set\u001b[39m\u001b[38;5;124m\"\u001b[39m\n\u001b[1;32m    505\u001b[0m     )\n",
      "File \u001b[0;32m~/miniforge3/envs/ds310/lib/python3.10/site-packages/pandas/io/excel/_base.py:1550\u001b[0m, in \u001b[0;36mExcelFile.__init__\u001b[0;34m(self, path_or_buffer, engine, storage_options, engine_kwargs)\u001b[0m\n\u001b[1;32m   1548\u001b[0m     ext \u001b[38;5;241m=\u001b[39m \u001b[38;5;124m\"\u001b[39m\u001b[38;5;124mxls\u001b[39m\u001b[38;5;124m\"\u001b[39m\n\u001b[1;32m   1549\u001b[0m \u001b[38;5;28;01melse\u001b[39;00m:\n\u001b[0;32m-> 1550\u001b[0m     ext \u001b[38;5;241m=\u001b[39m \u001b[43minspect_excel_format\u001b[49m\u001b[43m(\u001b[49m\n\u001b[1;32m   1551\u001b[0m \u001b[43m        \u001b[49m\u001b[43mcontent_or_path\u001b[49m\u001b[38;5;241;43m=\u001b[39;49m\u001b[43mpath_or_buffer\u001b[49m\u001b[43m,\u001b[49m\u001b[43m \u001b[49m\u001b[43mstorage_options\u001b[49m\u001b[38;5;241;43m=\u001b[39;49m\u001b[43mstorage_options\u001b[49m\n\u001b[1;32m   1552\u001b[0m \u001b[43m    \u001b[49m\u001b[43m)\u001b[49m\n\u001b[1;32m   1553\u001b[0m     \u001b[38;5;28;01mif\u001b[39;00m ext \u001b[38;5;129;01mis\u001b[39;00m \u001b[38;5;28;01mNone\u001b[39;00m:\n\u001b[1;32m   1554\u001b[0m         \u001b[38;5;28;01mraise\u001b[39;00m \u001b[38;5;167;01mValueError\u001b[39;00m(\n\u001b[1;32m   1555\u001b[0m             \u001b[38;5;124m\"\u001b[39m\u001b[38;5;124mExcel file format cannot be determined, you must specify \u001b[39m\u001b[38;5;124m\"\u001b[39m\n\u001b[1;32m   1556\u001b[0m             \u001b[38;5;124m\"\u001b[39m\u001b[38;5;124man engine manually.\u001b[39m\u001b[38;5;124m\"\u001b[39m\n\u001b[1;32m   1557\u001b[0m         )\n",
      "File \u001b[0;32m~/miniforge3/envs/ds310/lib/python3.10/site-packages/pandas/io/excel/_base.py:1402\u001b[0m, in \u001b[0;36minspect_excel_format\u001b[0;34m(content_or_path, storage_options)\u001b[0m\n\u001b[1;32m   1399\u001b[0m \u001b[38;5;28;01mif\u001b[39;00m \u001b[38;5;28misinstance\u001b[39m(content_or_path, \u001b[38;5;28mbytes\u001b[39m):\n\u001b[1;32m   1400\u001b[0m     content_or_path \u001b[38;5;241m=\u001b[39m BytesIO(content_or_path)\n\u001b[0;32m-> 1402\u001b[0m \u001b[38;5;28;01mwith\u001b[39;00m \u001b[43mget_handle\u001b[49m\u001b[43m(\u001b[49m\n\u001b[1;32m   1403\u001b[0m \u001b[43m    \u001b[49m\u001b[43mcontent_or_path\u001b[49m\u001b[43m,\u001b[49m\u001b[43m \u001b[49m\u001b[38;5;124;43m\"\u001b[39;49m\u001b[38;5;124;43mrb\u001b[39;49m\u001b[38;5;124;43m\"\u001b[39;49m\u001b[43m,\u001b[49m\u001b[43m \u001b[49m\u001b[43mstorage_options\u001b[49m\u001b[38;5;241;43m=\u001b[39;49m\u001b[43mstorage_options\u001b[49m\u001b[43m,\u001b[49m\u001b[43m \u001b[49m\u001b[43mis_text\u001b[49m\u001b[38;5;241;43m=\u001b[39;49m\u001b[38;5;28;43;01mFalse\u001b[39;49;00m\n\u001b[1;32m   1404\u001b[0m \u001b[43m\u001b[49m\u001b[43m)\u001b[49m \u001b[38;5;28;01mas\u001b[39;00m handle:\n\u001b[1;32m   1405\u001b[0m     stream \u001b[38;5;241m=\u001b[39m handle\u001b[38;5;241m.\u001b[39mhandle\n\u001b[1;32m   1406\u001b[0m     stream\u001b[38;5;241m.\u001b[39mseek(\u001b[38;5;241m0\u001b[39m)\n",
      "File \u001b[0;32m~/miniforge3/envs/ds310/lib/python3.10/site-packages/pandas/io/common.py:882\u001b[0m, in \u001b[0;36mget_handle\u001b[0;34m(path_or_buf, mode, encoding, compression, memory_map, is_text, errors, storage_options)\u001b[0m\n\u001b[1;32m    873\u001b[0m         handle \u001b[38;5;241m=\u001b[39m \u001b[38;5;28mopen\u001b[39m(\n\u001b[1;32m    874\u001b[0m             handle,\n\u001b[1;32m    875\u001b[0m             ioargs\u001b[38;5;241m.\u001b[39mmode,\n\u001b[0;32m   (...)\u001b[0m\n\u001b[1;32m    878\u001b[0m             newline\u001b[38;5;241m=\u001b[39m\u001b[38;5;124m\"\u001b[39m\u001b[38;5;124m\"\u001b[39m,\n\u001b[1;32m    879\u001b[0m         )\n\u001b[1;32m    880\u001b[0m     \u001b[38;5;28;01melse\u001b[39;00m:\n\u001b[1;32m    881\u001b[0m         \u001b[38;5;66;03m# Binary mode\u001b[39;00m\n\u001b[0;32m--> 882\u001b[0m         handle \u001b[38;5;241m=\u001b[39m \u001b[38;5;28;43mopen\u001b[39;49m\u001b[43m(\u001b[49m\u001b[43mhandle\u001b[49m\u001b[43m,\u001b[49m\u001b[43m \u001b[49m\u001b[43mioargs\u001b[49m\u001b[38;5;241;43m.\u001b[39;49m\u001b[43mmode\u001b[49m\u001b[43m)\u001b[49m\n\u001b[1;32m    883\u001b[0m     handles\u001b[38;5;241m.\u001b[39mappend(handle)\n\u001b[1;32m    885\u001b[0m \u001b[38;5;66;03m# Convert BytesIO or file objects passed with an encoding\u001b[39;00m\n",
      "\u001b[0;31mFileNotFoundError\u001b[0m: [Errno 2] No such file or directory: '/home/sophomores/projects/Digital_model_5_1/data/附件1_处理_final.xlsx'"
     ]
    }
   ],
   "source": [
    "df_1 = pd.read_excel(file_path[0])\n",
    "df_2 = pd.read_excel(file_path[1])\n",
    "\n",
    "df_man, df_woman = [df.copy() for df in [df_1, df_2]]\n",
    "[clean_food_code_main(df) for df in [df_man, df_woman]]\n",
    "\n",
    "df_man.name = '男'\n",
    "df_woman.name = '女'"
   ]
  },
  {
   "cell_type": "code",
   "execution_count": 1,
   "id": "c412e5f6bf728ef1",
   "metadata": {
    "ExecuteTime": {
     "end_time": "2025-05-02T12:06:23.268733Z",
     "start_time": "2025-05-02T12:06:21.527317Z"
    }
   },
   "outputs": [
    {
     "ename": "NameError",
     "evalue": "name 'Evaluation' is not defined",
     "output_type": "error",
     "traceback": [
      "\u001b[0;31m---------------------------------------------------------------------------\u001b[0m",
      "\u001b[0;31mNameError\u001b[0m                                 Traceback (most recent call last)",
      "Cell \u001b[0;32mIn[1], line 1\u001b[0m\n\u001b[0;32m----> 1\u001b[0m man_e \u001b[38;5;241m=\u001b[39m \u001b[43mEvaluation\u001b[49m(df_man)\n\u001b[1;32m      2\u001b[0m \u001b[38;5;28mprint\u001b[39m(man_e\u001b[38;5;241m.\u001b[39mstandards[\u001b[38;5;124m'\u001b[39m\u001b[38;5;124mcode_prefix_to_major_group\u001b[39m\u001b[38;5;124m'\u001b[39m])\n\u001b[1;32m      3\u001b[0m \u001b[38;5;66;03m# man_e.main()\u001b[39;00m\n",
      "\u001b[0;31mNameError\u001b[0m: name 'Evaluation' is not defined"
     ]
    }
   ],
   "source": [
    "man_e = Evaluation(df_man)\n",
    "print(man_e.standards['code_prefix_to_major_group'])\n",
    "# man_e.main()"
   ]
  },
  {
   "cell_type": "code",
   "execution_count": 5,
   "id": "e51d12011062ee0e",
   "metadata": {
    "ExecuteTime": {
     "end_time": "2025-05-02T12:06:25.059211Z",
     "start_time": "2025-05-02T12:06:23.301728Z"
    }
   },
   "outputs": [
    {
     "name": "stdout",
     "output_type": "stream",
     "text": [
      "\n",
      "--- 开始评价 女 学生 的食谱 ---\n",
      "\n",
      "--- 女 学生食谱整体评价与建议 ---\n",
      "\n",
      "各项评价总结:\n",
      "--------------------------------------------------\n",
      "  食物结构:\n",
      "    种类数量: 10 种 (目标 > 12 种) - 评价: 不足 ❌\n",
      "    五大类包含: 齐全 ✅\n",
      "--------------------------------------------------\n",
      "  能量摄入:\n",
      "    总能量: 1482.66 kcal (目标 1900 kcal, 适宜范围 1710-2090 kcal, 占目标 78.0%) - 评价: 偏低\n",
      "--------------------------------------------------\n",
      "  餐次供能比:\n",
      "    早餐: 20.7% (目标 25%-35%) - 评价: 偏低\n",
      "    午餐: 44.5% (目标 30%-40%) - 评价: 偏高\n",
      "    晚餐: 34.8% (目标 30%-40%) - 评价: 达标\n",
      "  餐次比整体评价: 部分餐次比偏离\n",
      "--------------------------------------------------\n",
      "  宏量供能比:\n",
      "    蛋白质: 15.3% (目标 10%-15%) - 评价: 偏高\n",
      "    脂肪: 36.4% (目标 20%-30%) - 评价: 偏高\n",
      "    碳水化合物: 48.3% (目标 50%-65%) - 评价: 偏低\n",
      "  宏量供能比整体评价: 部分宏量比偏离\n",
      "--------------------------------------------------\n",
      "  非产能营养素:\n",
      "    钙: 423.75mg (目标 800mg, 占目标 53.0%) - 评价: 不足\n",
      "    铁: 12.35mg (目标 20mg, 占目标 61.8%) - 评价: 不足\n",
      "    锌: 4.51mg (目标 8mg, 占目标 60.1%) - 评价: 不足\n",
      "    维生素A: 2388.00μg (目标 700μg, 占目标 341.1%) - 评价: 达标或偏高\n",
      "    维生素B1: 0.92mg (目标 1mg, 占目标 76.3%) - 评价: 不足\n",
      "    维生素B2: 0.81mg (目标 1mg, 占目标 67.1%) - 评价: 不足\n",
      "    维生素C: 34.20mg (目标 100mg, 占目标 34.2%) - 评价: 不足\n",
      "  非产能营养素整体评价: 部分未达标，需改进\n",
      "--------------------------------------------------\n",
      "  每餐 AAS:\n",
      "    早餐: AAS 22.4 (限制性氨基酸: 赖氨酸) - 评价: 不合理\n",
      "    午餐: AAS 17.9 (限制性氨基酸: 赖氨酸) - 评价: 不合理\n",
      "    晚餐: AAS 115.6 (限制性氨基酸: 苏氨酸) - 评价: 合理\n",
      "  每餐 AAS 整体评价: 部分餐次 AAS 不足或计算/数据缺失 ❌\n",
      "\n",
      "##################################################\n",
      "综合评价结论:\n",
      "\n",
      "膳食建议:\n",
      "--------------------------------------------------\n",
      "  1. 食谱种类不足，建议增加每日食物种类数量，目标 > 12 种，以增加食物多样性。\n",
      "  2. 总能量摄入偏低 (1483 kcal)，建议适量增加食物摄入总量。\n",
      "  3. 早餐 供能比偏低 (20.7%)，建议增加 早餐 的食物摄入量，以使供能更均衡。\n",
      "  4. 午餐 供能比偏高 (44.5%)，建议减少 午餐 的食物摄入量，并合理分配到其他餐次。\n",
      "  5. 蛋白质 供能比偏高 (15.3%)，建议减少富含 蛋白质 的食物摄入。\n",
      "  6. 脂肪 供能比偏高 (36.4%)，建议减少富含 脂肪 的食物摄入。\n",
      "  7. 碳水化合物 供能比偏低 (48.3%)，建议增加富含 碳水化合物 的食物摄入，如全谷物、薯类等。\n",
      "  8. 食谱中部分非产能主要营养素摄入不足，需重点改进：\n",
      "  9.   钙: 摄入量不足 (占目标 53.0%)，建议增加富含 钙 的食物。 (如奶制品、豆制品、深绿色蔬菜)\n",
      "  10.   铁: 摄入量不足 (占目标 61.8%)，建议增加富含 铁 的食物。 (如瘦肉、动物肝脏、木耳)\n",
      "  11.   锌: 摄入量不足 (占目标 60.1%)，建议增加富含 锌 的食物。 (如贝壳类海产品、红色肉类)\n",
      "  12.   维生素B1: 摄入量不足 (占目标 76.3%)，建议增加富含 维生素B1 的食物。 (如全谷物、豆类、瘦猪肉)\n",
      "  13.   维生素B2: 摄入量不足 (占目标 67.1%)，建议增加富含 维生素B2 的食物。 (如奶制品、动物内脏、蛋类)\n",
      "  14.   维生素C: 摄入量不足 (占目标 34.2%)，建议增加富含 维生素C 的食物。 (如新鲜蔬菜水果，特别是深色蔬菜和柑橘类水果)\n",
      "  15. 部分餐次蛋白质质量（AAS）不理想，需注意食物搭配：\n",
      "  16.   早餐: AAS 不理想 (22.4)，建议在该餐次搭配不同来源的蛋白质食物 (限制性氨基酸: 赖氨酸)，如谷类和豆类同食，或增加优质动物蛋白。\n",
      "  17.   午餐: AAS 不理想 (17.9)，建议在该餐次搭配不同来源的蛋白质食物 (限制性氨基酸: 赖氨酸)，如谷类和豆类同食，或增加优质动物蛋白。\n",
      "\n",
      "--- 女 学生食谱整体评价与建议结束 ---\n",
      "\n",
      "\n",
      "--- 女 学生 食谱评价全部完成 ---\n"
     ]
    }
   ],
   "source": [
    "woman_e = Evaluation(df_woman)\n",
    "woman_e.main()"
   ]
  }
 ],
 "metadata": {
  "kernelspec": {
   "display_name": "ds310",
   "language": "python",
   "name": "python3"
  },
  "language_info": {
   "codemirror_mode": {
    "name": "ipython",
    "version": 3
   },
   "file_extension": ".py",
   "mimetype": "text/x-python",
   "name": "python",
   "nbconvert_exporter": "python",
   "pygments_lexer": "ipython3",
   "version": "3.10.17"
  }
 },
 "nbformat": 4,
 "nbformat_minor": 5
}
