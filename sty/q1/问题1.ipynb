{
 "cells": [
  {
   "metadata": {
    "ExecuteTime": {
     "end_time": "2025-05-01T06:09:19.753625Z",
     "start_time": "2025-05-01T06:09:19.743124Z"
    }
   },
   "cell_type": "code",
   "source": [
    "import pandas as pd\n",
    "import numpy as np\n",
    "import os"
   ],
   "id": "3aef1c5e18c8e9de",
   "outputs": [],
   "execution_count": 15
  },
  {
   "metadata": {
    "ExecuteTime": {
     "end_time": "2025-05-01T06:10:04.421139Z",
     "start_time": "2025-05-01T06:10:04.416008Z"
    }
   },
   "cell_type": "code",
   "source": [
    "def find_project_root(marker = '.git'):\n",
    "    \"\"\"\n",
    "    从当前目录向上搜索，直到找到包含指定标记目录的父目录，将其视为项目根目录。\n",
    "\n",
    "    Args:\n",
    "        marker: 用于标识项目根目录的子目录名称列表，默认为 ['.git', '.idea']。\n",
    "    Returns:\n",
    "        str: 项目根目录的绝对路径，如果未找到标记目录，则返回 None。\n",
    "    \"\"\"\n",
    "    # 获取当前脚本或 Notebook 的工作目录\n",
    "    # 在 Jupyter Notebook 中，os.getcwd() 通常是 Notebook 文件所在的目录\n",
    "    current_dir = os.path.abspath(os.getcwd())\n",
    "\n",
    "    while True:\n",
    "        # 检查当前目录是否包含任何一个标记目录\n",
    "        if os.path.exists(os.path.join(current_dir, marker)):\n",
    "            return current_dir # 找到根目录，返回\n",
    "\n",
    "        # 向上移动到父目录\n",
    "        parent_dir = os.path.dirname(current_dir)\n",
    "        current_dir = parent_dir\n",
    "project_root_path = find_project_root()\n",
    "\n",
    "file_names = ['附件1_处理_final.xlsx', '附件2_处理_final.xlsx', '附件3_处理_final.xlsx']\n",
    "data_subdirectory = '处理后的数据'\n",
    "file_path  = [os.path.join(project_root_path,data_subdirectory,name) for name in file_names]"
   ],
   "id": "f05d28a56cb40435",
   "outputs": [],
   "execution_count": 17
  },
  {
   "metadata": {
    "ExecuteTime": {
     "end_time": "2025-05-01T06:24:52.658443Z",
     "start_time": "2025-05-01T06:24:52.615116Z"
    }
   },
   "cell_type": "code",
   "source": [
    "df_man = pd.read_excel(file_path[0])\n",
    "df_woman = pd.read_excel(file_path[1])\n",
    "df_man.name = '男学生'\n",
    "df_woman.name = '女学生'"
   ],
   "id": "ab9ec45204fce8a",
   "outputs": [],
   "execution_count": 32
  },
  {
   "metadata": {
    "ExecuteTime": {
     "end_time": "2025-05-01T06:12:22.288502Z",
     "start_time": "2025-05-01T06:12:22.278570Z"
    }
   },
   "cell_type": "code",
   "source": [
    "def clean_food_code(code):\n",
    "    \"\"\"\n",
    "    标准化食物编码：。\n",
    "    1. 将编码转换为字符串并去除首尾空白。\n",
    "    2. 分离出可能的末尾 'x' 和前面的主体部分。\n",
    "    3. 如果是纯数字，根据长度（<6）决定是否补零。\n",
    "    4. 将处理好的数字部分与末尾的 'x' 重新组合。\n",
    "    5. 如果主体部分不全由数字组成，返回原始字符串。\n",
    "    \"\"\"\n",
    "    # 1. 将编码转换为字符串并去除首尾空白\n",
    "    code_str = str(code).strip()\n",
    "\n",
    "    # 2. 分离出可能的末尾 'x' 和前面的主体部分\n",
    "    numeric_part = code_str\n",
    "    suffix_x = ''\n",
    "    # 检查是否以 'x' 结尾（不区分大小写）\n",
    "    if code_str.lower().endswith('x'):\n",
    "        numeric_part = code_str[:-1]  # 取除最后一个字符外的所有部分作为数字主体\n",
    "        suffix_x = code_str[-1]  # 获取最后一个字符，即 'x' 或 'X'\n",
    "\n",
    "    # 3. 根据长度决定是否补零\n",
    "    if len(numeric_part) < 6:\n",
    "        # 长度小于6，补零至6位\n",
    "        padded_numeric_part = numeric_part.zfill(6)\n",
    "        # 6. 将处理好的数字部分与末尾的 'x' 重新组合\n",
    "        return padded_numeric_part + suffix_x\n",
    "    else:\n",
    "        # 长度等于或大于6（且假设没有 >6 情况，或大于等于6都不补零）\n",
    "        # 直接返回原字符串，因为数字主体已经是6位或更长，且末尾的 x 也已包含在原字符串中\n",
    "        return code_str\n",
    "\n",
    "\n",
    "def clean_food_code_main(df):\n",
    "    df['食物编码'] = df['食物编码'].apply(clean_food_code)\n",
    "\n",
    "\n",
    "clean_food_code_main(df_man)\n",
    "clean_food_code_main(df_woman)"
   ],
   "id": "ef728832e39c1612",
   "outputs": [],
   "execution_count": 20
  },
  {
   "metadata": {},
   "cell_type": "markdown",
   "source": [
    "## 1．分析食物结构\n",
    "代码\n",
    "\n",
    "\n",
    "按类别将食谱中食物归类排序，\n",
    "- 列出每种食物的数量\n",
    "- 分析五大类别食物是否齐全\n",
    "\n",
    "（1）谷、薯类；01,02\n",
    "\n",
    "（2）蔬菜、菌藻、水果类； 04,05,06\n",
    "\n",
    "（3）畜、禽、鱼、蛋类及制品；08,09,12,11\n",
    "\n",
    "（4）奶、干豆、坚果、种子类及制品；10, ,07,\n",
    "\n",
    "（5）植物油类。\n",
    "\n",
    "- 食物种类是否大于12种\n",
    "- 周食谱评价要求大于25种"
   ],
   "id": "2158e71a60189fa0"
  },
  {
   "metadata": {
    "ExecuteTime": {
     "end_time": "2025-05-01T06:12:30.340694Z",
     "start_time": "2025-05-01T06:12:30.325194Z"
    }
   },
   "cell_type": "code",
   "source": [
    "five_major_food_names = [\"谷、薯类\", \"蔬菜、菌藻、水果类\", \"畜、禽、鱼、蛋类及制品\", \"奶、干豆、坚果、种子类及制品\", \"植物油类\"]\n",
    "\n",
    "five_major_food_groups = [\n",
    "    {\"谷类及制品\": \"01\", \"薯类、淀粉及制品\": \"02\"},\n",
    "    {\"蔬菜类及制品\": \"04\", \"菌藻类\": \"05\", \"水果类及制品\": \"06\"},\n",
    "    {\"畜肉类及制品\": \"08\", \"禽肉类及制品\": \"09\", \"鱼虾蟹贝类\": \"12\", \"蛋类及制品\": \"11\"},\n",
    "    {\"乳类及制品\": \"10\", \"干豆类及制品\": \"03\", \"坚果、种子类\": \"07\"},\n",
    "    {\"植物油类\": \"18\"}\n",
    "]\n"
   ],
   "id": "a902ecd0c3fde463",
   "outputs": [],
   "execution_count": 21
  },
  {
   "metadata": {
    "ExecuteTime": {
     "end_time": "2025-05-01T06:12:33.555858Z",
     "start_time": "2025-05-01T06:12:33.545301Z"
    }
   },
   "cell_type": "code",
   "source": [
    "# 建立编号和组名的映射\n",
    "code_to_group_map = {}\n",
    "for i, group_codes_dict in enumerate(five_major_food_groups):\n",
    "    group_name = five_major_food_names[i]\n",
    "\n",
    "    for _, code in group_codes_dict.items():\n",
    "        code_to_group_map[code] = group_name\n",
    "code_to_group_map"
   ],
   "id": "f948bf896ea23d6e",
   "outputs": [
    {
     "data": {
      "text/plain": [
       "{'01': '谷、薯类',\n",
       " '02': '谷、薯类',\n",
       " '04': '蔬菜、菌藻、水果类',\n",
       " '05': '蔬菜、菌藻、水果类',\n",
       " '06': '蔬菜、菌藻、水果类',\n",
       " '08': '畜、禽、鱼、蛋类及制品',\n",
       " '09': '畜、禽、鱼、蛋类及制品',\n",
       " '12': '畜、禽、鱼、蛋类及制品',\n",
       " '11': '畜、禽、鱼、蛋类及制品',\n",
       " '10': '奶、干豆、坚果、种子类及制品',\n",
       " '03': '奶、干豆、坚果、种子类及制品',\n",
       " '07': '奶、干豆、坚果、种子类及制品',\n",
       " '18': '植物油类'}"
      ]
     },
     "execution_count": 22,
     "metadata": {},
     "output_type": "execute_result"
    }
   ],
   "execution_count": 22
  },
  {
   "metadata": {},
   "cell_type": "markdown",
   "source": [
    "代码思路:\n",
    "\n",
    "读取男女生的表,\n",
    "\n",
    "按照食物编码进行统计数量, 怎么得出每一种的数量?\n",
    "\n",
    "将男女生的食物编码进行拆分, 保留前两个数字, 设为新列, 即为类别编码,\n",
    "\n"
   ],
   "id": "ee55a05a59eda763"
  },
  {
   "metadata": {},
   "cell_type": "markdown",
   "source": "### 1.1 统计食物数量, 即每种食物的克重",
   "id": "8898b203849e2c47"
  },
  {
   "metadata": {
    "ExecuteTime": {
     "end_time": "2025-05-01T06:12:38.868771Z",
     "start_time": "2025-05-01T06:12:38.852765Z"
    }
   },
   "cell_type": "code",
   "source": [
    "# 计算每个食物的总克重\n",
    "def calculate_total_grams(df):\n",
    "    \"\"\"\n",
    "    :param df: 男/女生数据的Dataframe\n",
    "    :return: 返回各食物的数量\n",
    "    \"\"\"\n",
    "    print(\"--- 1.1 统计食物数量, 即每种食物的克重 ---\")\n",
    "    df['食物重量(克)'] = df['可食部（克/份）'] * df['食用份数']\n",
    "    food_quantities_summary = df.groupby('食物名称')['食物重量(克)'].sum().reset_index()\n",
    "    print(food_quantities_summary)\n",
    "    return food_quantities_summary\n"
   ],
   "id": "5bf15d1edc1cdb0d",
   "outputs": [],
   "execution_count": 23
  },
  {
   "metadata": {},
   "cell_type": "markdown",
   "source": "### 1.2 分析五大类别食物是否齐全",
   "id": "83a78a252e944f86"
  },
  {
   "metadata": {
    "ExecuteTime": {
     "end_time": "2025-05-01T06:12:43.779586Z",
     "start_time": "2025-05-01T06:12:43.765981Z"
    }
   },
   "cell_type": "code",
   "source": [
    "def get_food_categories(df):\n",
    "    # 定义一个函数，根据食物编码获取其所属的五大类别名称或标记为“其他类别”\n",
    "    def get_major_food_group_from_code(food_code, code_to_group_map):\n",
    "        \"\"\"\n",
    "        根据食物编码的前两位查找对应的五大类别名称。\n",
    "        非五大类别，则返回 '其他类别'。\n",
    "        \"\"\"\n",
    "        code = food_code[:2]\n",
    "        # 使用 字典的.get() 方法，如果在映射中找不到前缀，返回 '其他类别'\n",
    "        return code_to_group_map.get(code, '其他类别')\n",
    "\n",
    "    print(f\"--- 1.2 分析{df.name}每日食谱五大类别食物是否齐全 ---\")\n",
    "    # 应用函数，创建 '食物类别' 新列\n",
    "    df['食物类别'] = df['食物编码'].apply(lambda x: get_major_food_group_from_code(x, code_to_group_map))\n",
    "    # 获取食谱中实际包含的五大类别（排除“其他类别”）\n",
    "    categories_present = df[df['食物类别'] != '其他类别']['食物类别'].unique().tolist()\n",
    "\n",
    "    # 检查哪些五大类别是包含的，哪些是不包含的\n",
    "    print(\"五大类别食物包含情况:\")\n",
    "    missing_categories = []\n",
    "    for group_name in five_major_food_names:\n",
    "        is_present = group_name in categories_present\n",
    "        print(f\"   - {group_name}: {'包含 ✅' if is_present else '不包含 ❌'}\")\n",
    "        if not is_present:\n",
    "            missing_categories.append(group_name)\n",
    "\n",
    "    # 判断是否五大类别齐全\n",
    "    all_five_present = len(missing_categories) == 0\n",
    "    print(f\"五大类别是否齐全: {'是 ✅' if all_five_present else '否 ❌'}\")\n",
    "\n",
    "    # 输出缺少的类别（如果存在）\n",
    "    if missing_categories:\n",
    "        print(f\"缺少的五大类别: {', '.join(missing_categories)}\")\n",
    "    else:\n",
    "        print(\"所有五大类别都已包含。\")\n",
    "\n",
    "    # 检查是否有食物被归类到“其他类别”\n",
    "    other_category_items = df[df['食物类别'] == '其他类别']['主要成分'].unique().tolist()\n",
    "    if other_category_items:\n",
    "        print(\"-\" * 50)\n",
    "        print(f\"以下主要成分未能归入五大类别，被标记为 '其他类别':\\n {', '.join(other_category_items)}\")"
   ],
   "id": "b2bd4725674491a6",
   "outputs": [],
   "execution_count": 24
  },
  {
   "metadata": {
    "ExecuteTime": {
     "end_time": "2025-05-01T06:12:46.877538Z",
     "start_time": "2025-05-01T06:12:46.856556Z"
    }
   },
   "cell_type": "code",
   "source": "get_food_categories(df_man)",
   "id": "30cfa76153334dfc",
   "outputs": [
    {
     "name": "stdout",
     "output_type": "stream",
     "text": [
      "--- 1.2 分析男学生每日食谱五大类别食物是否齐全 ---\n",
      "五大类别食物包含情况:\n",
      "   - 谷、薯类: 包含 ✅\n",
      "   - 蔬菜、菌藻、水果类: 包含 ✅\n",
      "   - 畜、禽、鱼、蛋类及制品: 包含 ✅\n",
      "   - 奶、干豆、坚果、种子类及制品: 包含 ✅\n",
      "   - 植物油类: 不包含 ❌\n",
      "五大类别是否齐全: 否 ❌\n",
      "缺少的五大类别: 植物油类\n",
      "--------------------------------------------------\n",
      "以下主要成分未能归入五大类别，被标记为 '其他类别':\n",
      " 豆油, 芝麻油\n"
     ]
    }
   ],
   "execution_count": 25
  },
  {
   "metadata": {},
   "cell_type": "markdown",
   "source": "### 1.3 食物种类是否大于12种",
   "id": "ad178a0e9838a341"
  },
  {
   "metadata": {
    "ExecuteTime": {
     "end_time": "2025-05-01T06:12:51.863760Z",
     "start_time": "2025-05-01T06:12:51.850259Z"
    }
   },
   "cell_type": "code",
   "source": [
    "def count_food_types(df):\n",
    "    print(f\"--- 1.3 {df.name}每日食谱食物种类数量分析 ---\")\n",
    "    unique_food_types_count = df['食物名称'].nunique()\n",
    "    print(f\"食物种类数量: {unique_food_types_count} 种\")\n",
    "    print(f\"（要求日食谱 > 12 种）\")\n",
    "    if unique_food_types_count > 12:\n",
    "        print(\"食物种类数量达标 ✅\")\n",
    "    else:\n",
    "        print(\"每日食物种类数量不达标 ❌\")"
   ],
   "id": "a7d84d4bc568df60",
   "outputs": [],
   "execution_count": 26
  },
  {
   "metadata": {
    "ExecuteTime": {
     "end_time": "2025-05-01T06:12:53.875213Z",
     "start_time": "2025-05-01T06:12:53.870230Z"
    }
   },
   "cell_type": "code",
   "source": "count_food_types(df_man)",
   "id": "ee83cf0c4202a5f0",
   "outputs": [
    {
     "name": "stdout",
     "output_type": "stream",
     "text": [
      "--- 1.3 男学生每日食谱食物种类数量分析 ---\n",
      "食物种类数量: 11 种\n",
      "（要求日食谱 > 12 种）\n",
      "每日食物种类数量不达标 ❌\n"
     ]
    }
   ],
   "execution_count": 27
  },
  {
   "metadata": {},
   "cell_type": "markdown",
   "source": [
    "## 2. 计算食谱的主要营养素含量\n",
    "\n",
    "查出每100克可食部食物所含主要营养素的数量，从而算出食谱中各种主要营养素的含量\n",
    "\n",
    "主要营养素: 碳水化合物、脂肪、蛋白质、矿物质、维生素、水\n",
    "\n",
    "产能营养素: 碳水化合物、脂肪、蛋白质"
   ],
   "id": "13a6975927a4f591"
  },
  {
   "metadata": {
    "ExecuteTime": {
     "end_time": "2025-05-01T06:12:57.766908Z",
     "start_time": "2025-05-01T06:12:57.747513Z"
    }
   },
   "cell_type": "code",
   "source": [
    "def calculate_nutrient_intakes(df):\n",
    "    \"\"\"\n",
    "    :param df:\n",
    "    :return: intick_dict Dict（一日各营养素摄入量及能量总量）\n",
    "    :return: df_meal DataFrame（餐次的各营养素摄入量及能量总量）\n",
    "    \"\"\"\n",
    "    \n",
    "    weight_col = '食物重量(克)'\n",
    "    if not weight_col in df.columns:\n",
    "        df[weight_col] = df['可食部（克/份）'] * df['食用份数']\n",
    "    \n",
    "    # --- 2.1 计算食谱的主要营养素摄入量 ---\n",
    "    print(f\"--- 2.1 计算{df.name}食谱的主要营养素含量 ---\")\n",
    "    \n",
    "    # 定义需要计算摄入量的营养素列名列表\n",
    "    nutrient_cols_to_calculate = df_man_origin.columns.to_list()[6:]\n",
    "    \n",
    "    for nutrient_col_100g in nutrient_cols_to_calculate:\n",
    "        # 提取营养素名称和单位 (例如 '蛋白质', 'g')\n",
    "        parts = nutrient_col_100g.replace(')', '').split('(')\n",
    "        # 营养素名字\n",
    "        nutrient_name = parts[0].strip()\n",
    "        # 单位名称\n",
    "        unit_info = parts[1].strip()  # 例如 'g/100g', 'mg/100g'\n",
    "        # 摄入单位\n",
    "        intake_unit = unit_info.split('/')[0]  # 例如 'g', 'mg'\n",
    "        # 构建新的摄入量列名\n",
    "        intake_col_name = f'{nutrient_name}摄入量 ({intake_unit})'\n",
    "    \n",
    "        # 使用向量化计算： (总克重 / 100) * 每100克含量\n",
    "        # 创建新列 列名: 营养素名称\n",
    "        df[intake_col_name] = (df[weight_col] / 100) * df[nutrient_col_100g]\n",
    "    \n",
    "    # --- 2.2 计算一日总营养素摄入量 ---\n",
    "    print(f\"\\n--- 计算{df.name}一日总营养素摄入量 ---\")\n",
    "    \n",
    "    dict_intake = {}\n",
    "    \n",
    "    # 添加所有新计算的列的列名称为列表\n",
    "    intake_cols = [col for col in df.columns if '摄入量 (' in col and col.endswith(')')]\n",
    "    \n",
    "    for intake_col in intake_cols:\n",
    "        # 计算列摄入量总和\n",
    "        total_intake = df[intake_col].sum()\n",
    "        # 创建字典 营养素名: 每日营养素摄入总含量\n",
    "        dict_intake[intake_col] = total_intake\n",
    "        # 提取单位进行打印，例如 '蛋白质摄入量 (g)' -> g\n",
    "    \n",
    "        # 取出str中的单位\n",
    "        unit = intake_col.split('(')[-1].replace(')', '')\n",
    "\n",
    "        print(f\"  {intake_col.split('摄入量')[0].strip()} 总摄入量: {total_intake:.2f} {unit}\")\n",
    "    \n",
    "    # --- 2.3 计算总能量 ---\n",
    "    energy_conversion = {'蛋白质': 4, '脂肪': 9, '碳水化合物': 4}  # kcal/g\n",
    "    \n",
    "    # energy_conversion = {'蛋白质': 4, '脂肪': 9, '碳水化合物': 4, '膳食纤维': 2}\n",
    "    # 宏量营养素的总能量\n",
    "    total_calculated_energy_kcal = 0\n",
    "    \n",
    "    for substance in energy_conversion.keys():\n",
    "        # 获取宏量营养素的摄入量\n",
    "        total_g = dict_intake.get(substance+'摄入量 (g)',0)\n",
    "    \n",
    "        # 计算宏量营养素的能量\n",
    "        energy_kcal = total_g * energy_conversion[substance]\n",
    "        # 创建对应的列\n",
    "        df[substance+'能量摄入量 (kcal)'] = energy_kcal\n",
    "        total_calculated_energy_kcal += energy_kcal\n",
    "    \n",
    "    # 将总能量添加到日摄入量字典中\n",
    "    dict_intake['总能量摄入量 (kcal)'] = total_calculated_energy_kcal\n",
    "    \n",
    "    print(f\"\\n一日总能量摄入量: {total_calculated_energy_kcal:.2f} kcal\")\n",
    "    \n",
    "    # --- 2.4 计算每餐总营养素摄入量及能量 ---\n",
    "    print(\"\\n--- 计算一日每餐次总能量摄入量 ---\")\n",
    "    energy_substance = [col+'摄入量 (g)' for col in energy_conversion.keys()]\n",
    "\n",
    "    ''''''\n",
    "    # 统计每餐的三大营养素摄入量\n",
    "    df_meal = df.groupby('餐次')[\n",
    "    ['蛋白质摄入量 (g)', '脂肪摄入量 (g)', '碳水化合物摄入量 (g)']\n",
    "].sum()\n",
    "\n",
    "    # 正确计算每餐能量（单位 kcal）\n",
    "    df_meal['总能量摄入量 (kcal)'] = (\n",
    "    df_meal['蛋白质摄入量 (g)'] * 4 +\n",
    "    df_meal['脂肪摄入量 (g)'] * 9 +\n",
    "    df_meal['碳水化合物摄入量 (g)'] * 4\n",
    ")\n",
    "\n",
    "    # 可选：打印结果（保留2位小数）\n",
    "    print(df_meal.round(2)[['总能量摄入量 (kcal)']])\n",
    "    ''''''\n",
    "\n",
    "    print(df_meal.round(5)[['总能量摄入量 (kcal)']])\n",
    "    return dict_intake,df_meal"
   ],
   "id": "f4cfce1f39ed2afe",
   "outputs": [],
   "execution_count": 28
  },
  {
   "metadata": {
    "ExecuteTime": {
     "end_time": "2025-05-01T06:29:50.892999Z",
     "start_time": "2025-05-01T06:29:50.875909Z"
    }
   },
   "cell_type": "code",
   "source": "calculate_nutrient_intakes(df_man)",
   "id": "207c7613c63f384",
   "outputs": [
    {
     "name": "stdout",
     "output_type": "stream",
     "text": [
      "--- 2.1 计算男学生食谱的主要营养素含量 ---\n",
      "\n",
      "--- 计算男学生一日总营养素摄入量 ---\n",
      "  碳水化合物 总摄入量: 280.51 g\n",
      "  蛋白质 总摄入量: 106.50 g\n",
      "  脂肪 总摄入量: 135.99 g\n",
      "  钙 总摄入量: 412.50 mg\n",
      "  铁 总摄入量: 18.55 mg\n",
      "  锌 总摄入量: 11.34 mg\n",
      "  维生素A 总摄入量: 107.95 μg\n",
      "  维生素B1 总摄入量: 2.16 mg\n",
      "  维生素B2 总摄入量: 1.52 mg\n",
      "  维生素C 总摄入量: 42.16 mg\n",
      "  异亮氨酸 总摄入量: 33.00 g\n",
      "  亮氨酸 总摄入量: 57.81 g\n",
      "  赖氨酸 总摄入量: 5.37 g\n",
      "  含硫氨基酸 总摄入量: 7.33 g\n",
      "  芳香族氨基酸 总摄入量: 5.93 g\n",
      "  苏氨酸 总摄入量: 3.35 g\n",
      "  色氨酸 总摄入量: 1.18 g\n",
      "  缬氨酸 总摄入量: 4.83 g\n",
      "\n",
      "一日总能量摄入量: 2771.98 kcal\n",
      "\n",
      "--- 计算一日每餐次总能量摄入量 ---\n",
      "    总能量摄入量 (kcal)\n",
      "餐次               \n",
      "午餐        1074.22\n",
      "早餐         804.54\n",
      "晚餐         893.23\n",
      "    总能量摄入量 (kcal)\n",
      "餐次               \n",
      "午餐       1074.216\n",
      "早餐        804.536\n",
      "晚餐        893.225\n"
     ]
    },
    {
     "data": {
      "text/plain": [
       "({'碳水化合物摄入量 (g)': np.float64(280.515),\n",
       "  '蛋白质摄入量 (g)': np.float64(106.495),\n",
       "  '脂肪摄入量 (g)': np.float64(135.99300000000002),\n",
       "  '钙摄入量 (mg)': np.float64(412.5),\n",
       "  '铁摄入量 (mg)': np.float64(18.549999999999997),\n",
       "  '锌摄入量 (mg)': np.float64(11.340000000000002),\n",
       "  '维生素A摄入量 (μg)': np.float64(107.94999999999999),\n",
       "  '维生素B1摄入量 (mg)': np.float64(2.156),\n",
       "  '维生素B2摄入量 (mg)': np.float64(1.519),\n",
       "  '维生素C摄入量 (mg)': np.float64(42.16),\n",
       "  '异亮氨酸摄入量 (g)': np.float64(33.004999999999995),\n",
       "  '亮氨酸摄入量 (g)': np.float64(57.809999999999995),\n",
       "  '赖氨酸摄入量 (g)': np.float64(5.369),\n",
       "  '含硫氨基酸摄入量 (g)': np.float64(7.33),\n",
       "  '芳香族氨基酸摄入量 (g)': np.float64(5.93),\n",
       "  '苏氨酸摄入量 (g)': np.float64(3.3520000000000003),\n",
       "  '色氨酸摄入量 (g)': np.float64(1.184),\n",
       "  '缬氨酸摄入量 (g)': np.float64(4.835),\n",
       "  '总能量摄入量 (kcal)': np.float64(2771.977)},\n",
       "     蛋白质摄入量 (g)  脂肪摄入量 (g)  碳水化合物摄入量 (g)  总能量摄入量 (kcal)\n",
       " 餐次                                                    \n",
       " 午餐      44.040     52.024       107.460       1074.216\n",
       " 早餐      19.600     39.404        92.875        804.536\n",
       " 晚餐      42.855     44.565        80.180        893.225)"
      ]
     },
     "execution_count": 33,
     "metadata": {},
     "output_type": "execute_result"
    }
   ],
   "execution_count": 33
  },
  {
   "metadata": {},
   "cell_type": "markdown",
   "source": [
    "## 3. 评价食谱提供的能量、餐次比及非产能主要营养素含量\n",
    "根据\n",
    "- 每日能量摄入目标\n",
    "- 餐次比参考值\n",
    "- 以及非产能主要营养素钙、铁、锌、维生素A、维生素B1、维生素B2、维生素C的参考摄入量\n",
    "\n",
    "对食谱进行评价。\n"
   ],
   "id": "64696971a3c818cb"
  },
  {
   "metadata": {
    "ExecuteTime": {
     "end_time": "2025-05-01T06:15:42.075720Z",
     "start_time": "2025-05-01T06:15:42.049208Z"
    }
   },
   "cell_type": "code",
   "source": [
    "# 第一步：执行完整分析，生成 df_meal\n",
    "dict_intake, df_meal = calculate_nutrient_intakes(df_man)\n",
    "\n",
    "# 第二步：再计算三餐能量占比\n",
    "total_energy = df_meal['总能量摄入量 (kcal)'].sum()\n",
    "df_meal['能量占比 (%)'] = (df_meal['总能量摄入量 (kcal)'] / total_energy * 100).round(2)\n",
    "print(df_meal[['总能量摄入量 (kcal)', '能量占比 (%)']])\n"
   ],
   "id": "72eaad2897cd777c",
   "outputs": [
    {
     "name": "stdout",
     "output_type": "stream",
     "text": [
      "--- 2.1 计算男学生食谱的主要营养素含量 ---\n",
      "\n",
      "--- 计算男学生一日总营养素摄入量 ---\n",
      "  碳水化合物 总摄入量: 280.51 g\n",
      "  蛋白质 总摄入量: 106.50 g\n",
      "  脂肪 总摄入量: 135.99 g\n",
      "  钙 总摄入量: 412.50 mg\n",
      "  铁 总摄入量: 18.55 mg\n",
      "  锌 总摄入量: 11.34 mg\n",
      "  维生素A 总摄入量: 107.95 μg\n",
      "  维生素B1 总摄入量: 2.16 mg\n",
      "  维生素B2 总摄入量: 1.52 mg\n",
      "  维生素C 总摄入量: 42.16 mg\n",
      "  异亮氨酸 总摄入量: 33.00 g\n",
      "  亮氨酸 总摄入量: 57.81 g\n",
      "  赖氨酸 总摄入量: 5.37 g\n",
      "  含硫氨基酸 总摄入量: 7.33 g\n",
      "  芳香族氨基酸 总摄入量: 5.93 g\n",
      "  苏氨酸 总摄入量: 3.35 g\n",
      "  色氨酸 总摄入量: 1.18 g\n",
      "  缬氨酸 总摄入量: 4.83 g\n",
      "  蛋白质能量 总摄入量: 11501.46 kcal\n",
      "  脂肪能量 总摄入量: 33046.30 kcal\n",
      "  碳水化合物能量 总摄入量: 30295.62 kcal\n",
      "\n",
      "一日总能量摄入量: 2771.98 kcal\n",
      "\n",
      "--- 计算一日每餐次总能量摄入量 ---\n",
      "    总能量摄入量 (kcal)\n",
      "餐次               \n",
      "午餐        1074.22\n",
      "早餐         804.54\n",
      "晚餐         893.23\n",
      "    总能量摄入量 (kcal)\n",
      "餐次               \n",
      "午餐       1074.216\n",
      "早餐        804.536\n",
      "晚餐        893.225\n",
      "    总能量摄入量 (kcal)  能量占比 (%)\n",
      "餐次                         \n",
      "午餐       1074.216     38.75\n",
      "早餐        804.536     29.02\n",
      "晚餐        893.225     32.22\n"
     ]
    }
   ],
   "execution_count": 31
  },
  {
   "metadata": {},
   "cell_type": "code",
   "outputs": [],
   "execution_count": null,
   "source": "",
   "id": "668d79ede4a4cc47"
  }
 ],
 "metadata": {
  "kernelspec": {
   "display_name": "Python 3",
   "language": "python",
   "name": "python3"
  },
  "language_info": {
   "codemirror_mode": {
    "name": "ipython",
    "version": 2
   },
   "file_extension": ".py",
   "mimetype": "text/x-python",
   "name": "python",
   "nbconvert_exporter": "python",
   "pygments_lexer": "ipython2",
   "version": "2.7.6"
  }
 },
 "nbformat": 4,
 "nbformat_minor": 5
}
