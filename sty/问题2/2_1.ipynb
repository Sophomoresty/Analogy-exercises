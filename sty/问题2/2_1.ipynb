{
 "cells": [
  {
   "cell_type": "code",
   "execution_count": 2,
   "id": "7e9a442f",
   "metadata": {},
   "outputs": [],
   "source": [
    "import numpy as np\n",
    "import pandas as pd\n",
    "import os\n",
    "def find_project_root(marker=\".git\"):\n",
    "    \"\"\"\n",
    "    从当前目录向上搜索，直到找到包含指定标记目录的父目录，将其视为项目根目录。\n",
    "\n",
    "    Args:\n",
    "        marker: 用于标识项目根目录的子目录名称列表，默认为 ['.git', '.idea']。\n",
    "    Returns:\n",
    "        str: 项目根目录的绝对路径，如果未找到标记目录，则返回 None。\n",
    "    \"\"\"\n",
    "    # 获取当前脚本或 Notebook 的工作目录\n",
    "    # 在 Jupyter Notebook 中，os.getcwd() 通常是 Notebook 文件所在的目录\n",
    "    \n",
    "    current_dir = os.path.abspath(os.getcwd())\n",
    "    while True:\n",
    "\n",
    "        # 检查当前目录是否包含任何一个标记目录\n",
    "        if os.path.exists(os.path.join(current_dir, marker)):\n",
    "            return current_dir  # 找到根目录，返回\n",
    "\n",
    "        # 向上移动到父目录\n",
    "        parent_dir = os.path.dirname(current_dir)\n",
    "        current_dir = parent_dir\n"
   ]
  },
  {
   "cell_type": "code",
   "execution_count": 3,
   "id": "3ec8a537",
   "metadata": {},
   "outputs": [],
   "source": [
    "project_root_path = find_project_root()\n",
    "\n",
    "file_names = ['附件1.xlsx', '附件2.xlsx', '附件3.xlsx']\n",
    "data_subdirectory = 'data'\n",
    "file_path = [os.path.join(project_root_path, data_subdirectory, name) for name in file_names]"
   ]
  },
  {
   "cell_type": "code",
   "execution_count": 4,
   "id": "8d7e83e1",
   "metadata": {},
   "outputs": [],
   "source": [
    "df_man = pd.read_excel(file_path[0])\n",
    "df_woman = pd.read_excel(file_path[1])\n",
    "df_food = pd.read_excel(file_path[2])"
   ]
  },
  {
   "cell_type": "code",
   "execution_count": 8,
   "id": "cf45c706",
   "metadata": {},
   "outputs": [
    {
     "data": {
      "text/plain": [
       "Index(['Unnamed: 0', '餐次', '食物名称', '主要成分', '食物编码', '可食部 (克/份)', '价格 (元/份)',\n",
       "       '是否可半份', '能量 (kcal)', '能量 (kJ)', '蛋白质', '脂肪', '碳水化合物', '维生素A', '维生素C',\n",
       "       '钙', '铁', '锌', '异亮氨酸', '亮氨酸', '赖氨酸', '含硫氨基酸(SAA)_Total',\n",
       "       '含硫氨基酸(SAA)_蛋氨酸', '含硫氨基酸(SAA)_胱氨酸', '芳香族氨基酸(AAA)_Total',\n",
       "       '芳香族氨基酸(AAA)_苯丙氨酸', '芳香族氨基酸(AAA)_酪氨酸', '苏氨酸', '色氨酸', '缬氨酸'],\n",
       "      dtype='object')"
      ]
     },
     "execution_count": 8,
     "metadata": {},
     "output_type": "execute_result"
    }
   ],
   "source": [
    "df_food.columns"
   ]
  },
  {
   "cell_type": "code",
   "execution_count": 5,
   "id": "2a8bdb70",
   "metadata": {},
   "outputs": [],
   "source": [
    "standards = {\n",
    "    \"daily_variety_min\": 12,\n",
    "    \"energy_target\": {\"男\": 2400, \"女\": 1900},\n",
    "    \"energy_acceptable_range_percent\": 10,\n",
    "    \"meal_ratio_range\": {\n",
    "        \"早餐\": (0.25, 0.35),\n",
    "        \"午餐\": (0.30, 0.40),\n",
    "        \"晚餐\": (0.30, 0.40),\n",
    "    },\n",
    "    \"micro_target\": {\n",
    "        \"男\": {\n",
    "            \"钙\": 800,\n",
    "            \"铁\": 12,\n",
    "            \"锌\": 12.5,\n",
    "            \"维生素A\": 800,\n",
    "            \"维生素B1\": 1.4,\n",
    "            \"维生素B2\": 1.4,\n",
    "            \"维生素C\": 100,\n",
    "        },\n",
    "        \"女\": {\n",
    "            \"钙\": 800,\n",
    "            \"铁\": 20,\n",
    "            \"锌\": 7.5,\n",
    "            \"维生素A\": 700,\n",
    "            \"维生素B1\": 1.2,\n",
    "            \"维生素B2\": 1.2,\n",
    "            \"维生素C\": 100,\n",
    "        },\n",
    "    },\n",
    "    \"macro_ratio_range\": {\n",
    "        \"蛋白质\": (0.10, 0.15),\n",
    "        \"脂肪\": (0.20, 0.30),\n",
    "        \"碳水化合物\": (0.50, 0.65),\n",
    "    },\n",
    "    \"energy_conversion\": {\"蛋白质\": 4, \"脂肪\": 9, \"碳水化合物\": 4},  # No Fiber\n",
    "    \"aas_ref_pattern\": {\n",
    "        \"异亮氨酸\": 40,\n",
    "        \"亮氨酸\": 70,\n",
    "        \"赖氨酸\": 55,\n",
    "        \"含硫氨基酸\": 35,\n",
    "        \"芳香族氨基酸\": 60,\n",
    "        \"苏氨酸\": 40,\n",
    "        \"色氨酸\": 10,\n",
    "        \"缬氨酸\": 50,\n",
    "    },\n",
    "    \"aas_eval_criteria\": {\n",
    "        \"不合理\": (0, 60),\n",
    "        \"不够合理\": (60, 80),\n",
    "        \"比较合理\": (80, 90),\n",
    "        \"合理\": (90, float(\"inf\")),\n",
    "    },\n",
    "    \"five_major_food_names\": [\n",
    "        \"谷、薯类\",\n",
    "        \"蔬菜、菌藻、水果类\",\n",
    "        \"畜、禽、鱼、蛋类及制品\",\n",
    "        \"奶、干豆、坚果、种子类及制品\",\n",
    "        \"植物油类\",\n",
    "    ],\n",
    "    \"code_prefix_to_major_group\": {\n",
    "        \"01\": \"谷、薯类\",\n",
    "        \"02\": \"谷、薯类\",\n",
    "        \"04\": \"蔬菜、菌藻、水果类\",\n",
    "        \"05\": \"蔬菜、菌藻、水果类\",\n",
    "        \"06\": \"蔬菜、菌藻、水果类\",\n",
    "        \"08\": \"畜、禽、鱼、蛋类及制品\",\n",
    "        \"09\": \"畜、禽、鱼、蛋类及制品\",\n",
    "        \"12\": \"畜、禽、鱼、蛋类及制品\",\n",
    "        \"11\": \"畜、禽、鱼、蛋类及制品\",\n",
    "        \"10\": \"奶、干豆、坚果、种子类及制品\",\n",
    "        \"03\": \"奶、干豆、坚果、种子类及制品\",\n",
    "        \"07\": \"奶、干豆、坚果、种子类及制品\",\n",
    "        \"19\": \"植物油类\",\n",
    "    },\n",
    "    \"weight_col\": \"食物重量(克)\",\n",
    "    \"meal_col\": \"餐次\",\n",
    "    \"meal_order\": [\"早餐\", \"午餐\", \"晚餐\"],\n",
    "}\n",
    "# 更新氨基酸列名，确保与df_food列名匹配\n",
    "standards[\"aas_cols\"] = {\n",
    "    \"异亮氨酸\": \"异亮氨酸\",\n",
    "    \"亮氨酸\": \"亮氨酸\",\n",
    "    \"赖氨酸\": \"赖氨酸\",\n",
    "    \"含硫氨基酸(SAA)_Total\": \"含硫氨基酸(SAA)_Total\",\n",
    "    \"芳香族氨基酸(AAA)_Total\": \"芳香族氨基酸(AAA)_Total\",\n",
    "    \"苏氨酸\": \"苏氨酸\",\n",
    "    \"色氨酸\": \"色氨酸\",\n",
    "    \"缬氨酸\": \"缬氨酸\",\n",
    "}\n",
    "# 更新微量营养素名称，确保与df_food列名匹配\n",
    "standards[\"micro_target_cols\"] = {\n",
    "    \"钙\": \"钙\", \"铁\": \"铁\", \"锌\": \"锌\",\n",
    "    \"维生素A\": \"维生素A\", \"维生素C\": \"维生素C\"\n",
    "}\n",
    "\n",
    "\n"
   ]
  },
  {
   "cell_type": "code",
   "execution_count": 6,
   "id": "f81668d3",
   "metadata": {},
   "outputs": [
    {
     "data": {
      "text/plain": [
       "Index(['Unnamed: 0', '餐次', '食物名称', '主要成分', '食物编码', '可食部 (克/份)', '价格 (元/份)',\n",
       "       '是否可半份', '能量 (kcal)', '能量 (kJ)', '蛋白质', '脂肪', '碳水化合物', '维生素A', '维生素C',\n",
       "       '钙', '铁', '锌', '异亮氨酸', '亮氨酸', '赖氨酸', '含硫氨基酸(SAA)_Total',\n",
       "       '含硫氨基酸(SAA)_蛋氨酸', '含硫氨基酸(SAA)_胱氨酸', '芳香族氨基酸(AAA)_Total',\n",
       "       '芳香族氨基酸(AAA)_苯丙氨酸', '芳香族氨基酸(AAA)_酪氨酸', '苏氨酸', '色氨酸', '缬氨酸'],\n",
       "      dtype='object')"
      ]
     },
     "execution_count": 6,
     "metadata": {},
     "output_type": "execute_result"
    }
   ],
   "source": [
    "df_food.columns"
   ]
  },
  {
   "cell_type": "code",
   "execution_count": 10,
   "id": "aa9c510d",
   "metadata": {},
   "outputs": [
    {
     "data": {
      "text/plain": [
       "['钙', '铁', '锌', '维生素A', '维生素C']"
      ]
     },
     "execution_count": 10,
     "metadata": {},
     "output_type": "execute_result"
    }
   ],
   "source": [
    "list(standards[\"micro_target_cols\"].values())"
   ]
  },
  {
   "cell_type": "code",
   "execution_count": null,
   "id": "8e2da445",
   "metadata": {},
   "outputs": [],
   "source": []
  },
  {
   "cell_type": "code",
   "execution_count": null,
   "id": "a4fbbc66",
   "metadata": {},
   "outputs": [
    {
     "data": {
      "text/plain": [
       "['Unnamed: 0',\n",
       " '餐次',\n",
       " '食物名称',\n",
       " '主要成分',\n",
       " '食物编码',\n",
       " '可食部(克/份)',\n",
       " '食用份数',\n",
       " '碳水化合物 (g/100g)',\n",
       " '蛋白质 (g/100g)',\n",
       " '脂肪 (g/100g)',\n",
       " '钙 (mg/100g)',\n",
       " '铁 (mg/100g)',\n",
       " '锌 (mg/100g)',\n",
       " '维生素A (μg/100g)',\n",
       " '维生素B1 (mg/100g)',\n",
       " '维生素B2 (mg/100g)',\n",
       " '维生素C (mg/100g)',\n",
       " '异亮氨酸 (g/100g)',\n",
       " '亮氨酸 (g/100g)',\n",
       " '赖氨酸 (g/100g)',\n",
       " '含硫氨基酸 (g/100g)',\n",
       " '芳香族氨基酸 (g/100g)',\n",
       " '苏氨酸 (g/100g)',\n",
       " '色氨酸 (g/100g)',\n",
       " '缬氨酸 (g/100g)']"
      ]
     },
     "execution_count": 10,
     "metadata": {},
     "output_type": "execute_result"
    }
   ],
   "source": [
    "# 氨基酸 g/100g -> mg/100g\n",
    "\n",
    "# 计算aas\n",
    "amino_acid_cols_g_per_100g = list(standards[\"aas_cols\"].values())\n",
    "\n",
    "# 对氨基酸进行单位转换,存储在新列中\n",
    "for col in amino_acid_cols_g_per_100g:\n",
    "    if col in df_food.columns:\n",
    "        df_food[f'{col}_mg_per_100g'] = df_food[col] * 1000\n",
    "        print(f\"转换单位 {col} 从 g/100g 到 mg/100g.\")\n",
    "    else:\n",
    "        print(f\"Warning: Amino acid column '{col}' not found in df_food.\")\n",
    "        # 处理确实值\n",
    "        \n",
    "\n",
    "# 计算每份食物的各种营养素含量\n",
    "\n",
    "# 定义需要计算 per_serving 含量的列\n",
    "# 营养素和非营养素\n",
    "nutrient_cols_per_100g = ['能量 (kcal)', '蛋白质', '脂肪', '碳水化合物'] + list(standards[\"micro_target_cols\"].values())\n",
    "a\n",
    "\n",
    "# 非营养素列名\n",
    "mino_acid_cols_mg_per_100g = [f'{col}_mg_per_100g' for col in amino_acid_cols_g_per_100g if f'{col}_mg_per_100g' in df_food.columns] # Use the new mg/100g columns\n",
    "\n",
    "all_nutrient_cols_per_100g = nutrient_cols_per_100g + amino_acid_cols_mg_per_100g\n",
    "\n",
    "# Create new columns for per_serving content\n",
    "for col_100g in all_nutrient_cols_per_100g:\n",
    "     # Ensure the corresponding per_100g column exists\n",
    "    if col_100g in df_food.columns or col_100g.replace('_mg_per_100g', '') in df_food.columns: # Check original or converted\n",
    "        col_serving = col_100g.replace(' (kcal)', '').replace(' (g)', '').replace(' (mg)', '').replace(' (μg)', '') + '_per_serving'\n",
    "        # Use the correct 100g column (original for energy, macro, micro; converted for AA)\n",
    "        source_col = col_100g if col_100g in df_food.columns else col_100g.replace('_mg_per_100g', '')\n",
    "        df_food[col_serving] = df_food[source_col] * (df_food[standards[\"weight_col\"]] / 100)\n",
    "        # Correct column name for per_serving after calculation for easier use\n",
    "        if '_mg_per_100g_per_serving' in col_serving:\n",
    "             df_food.rename(columns={col_serving: col_serving.replace('_mg_per_100g_per_serving', '_mg_per_serving')}, inplace=True)\n",
    "\n",
    "print(\"\\n已计算每份食物的营养素含量 (per_serving)。\")\n",
    "print(\"新增列示例:\", [col for col in df_food.columns if '_per_serving' in col][:5])\n",
    "\n",
    "\n",
    "# 获取食物列表和相关数据字典\n",
    "food_ids = df_food['食物编码'].tolist()\n",
    "food_names = df_food['食物名称'].tolist()\n",
    "food_meals = df_food[standards[\"meal_col\"]].tolist()\n",
    "food_weights_per_serving = df_food[standards[\"weight_col\"]].tolist()\n",
    "food_half_portion_allowed = df_food[standards[\"half_portion_col\"]].tolist()\n",
    "\n",
    "# 创建以食物编码为键的数据字典，方便模型中查找\n",
    "food_info_dict = df_food.set_index('食物编码').to_dict(orient='index')\n",
    "\n",
    "# 创建以营养素名称为键，食物编码为内层键的营养素含量字典\n",
    "# 使用 per_serving 的列\n",
    "nutrient_content_per_serving = {}\n",
    "for col in [col for col in df_food.columns if '_per_serving' in col]:\n",
    "    nutrient_name = col.replace('_per_serving', '')\n",
    "    nutrient_content_per_serving[nutrient_name] = df_food.set_index('食物编码')[col].to_dict()\n",
    "\n",
    "# 创建一个字典，用于快速查找食物是否可半份\n",
    "is_half_portion_allowed = df_food.set_index('食物编码')[standards[\"half_portion_col\"]].apply(lambda x: x == '是').to_dict()\n",
    "\n",
    "# 创建餐次与食物编码的映射\n",
    "food_by_meal = {meal: [] for meal in standards[\"meal_order\"]}\n",
    "for index, row in df_food.iterrows():\n",
    "    meal = row[standards[\"meal_col\"]]\n",
    "    food_id = row['食物编码']\n",
    "    if meal in food_by_meal:\n",
    "        food_by_meal[meal].append(food_id)"
   ]
  }
 ],
 "metadata": {
  "kernelspec": {
   "display_name": "ds310",
   "language": "python",
   "name": "python3"
  },
  "language_info": {
   "codemirror_mode": {
    "name": "ipython",
    "version": 3
   },
   "file_extension": ".py",
   "mimetype": "text/x-python",
   "name": "python",
   "nbconvert_exporter": "python",
   "pygments_lexer": "ipython3",
   "version": "3.10.17"
  }
 },
 "nbformat": 4,
 "nbformat_minor": 5
}
