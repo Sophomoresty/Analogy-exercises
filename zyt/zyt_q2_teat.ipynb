{
 "cells": [
  {
   "metadata": {
    "ExecuteTime": {
     "end_time": "2025-05-02T08:41:50.766122Z",
     "start_time": "2025-05-02T08:41:50.607163Z"
    }
   },
   "cell_type": "code",
   "source": [
    "import pandas as pd\n",
    "from pulp import *\n",
    "\n",
    "# ✅ 读取数据\n",
    "file_path = r\"C:\\Users\\zhangyutang\\Desktop\\附件3_处理_final_modified.xlsx\"\n",
    "df = pd.read_excel(file_path)\n",
    "df.fillna(0, inplace=True)\n",
    "\n",
    "# ✅ 清理列名\n",
    "df.columns = df.columns.str.replace(\"\\n\", \"\").str.strip()\n",
    "df.rename(columns={\"餐次\": \"meal\", \"食物名称\": \"food_name\"}, inplace=True)\n",
    "\n",
    "# ✅ 处理单位克重（可半份的食物克重减半）\n",
    "df[\"unit_weight\"] = df[\"可食部（克/份）\"]\n",
    "df.loc[df[\"是否可半份\"] == 1, \"unit_weight\"] /= 2\n",
    "\n",
    "# ✅ 设置每个变量的上限（默认 10，若可半份则为 20）\n",
    "df[\"x_upper\"] = 2\n",
    "df.loc[df[\"是否可半份\"] == 1, \"x_upper\"] = 4\n",
    "\n",
    "# ✅ 创建整数型决策变量 x_i\n",
    "df[\"x_var\"] = [\n",
    "    LpVariable(f\"x_{i}\", lowBound=0, upBound=df.loc[i, \"x_upper\"], cat=\"Integer\")\n",
    "    for i in range(len(df))\n",
    "]\n"
   ],
   "id": "7eb11423e9b8f39d",
   "outputs": [
    {
     "name": "stderr",
     "output_type": "stream",
     "text": [
      "C:\\Users\\zhangyutang\\AppData\\Local\\Temp\\ipykernel_21688\\4244035253.py:15: FutureWarning: Setting an item of incompatible dtype is deprecated and will raise an error in a future version of pandas. Value '[50.   1.  50.   1.  75.   1.5 50.   1.5 50.   1.5 50.   1.  50.  10.\n",
      "  1.  75.   1.5 50.   1.5 50.   1.  50.  10.   1.  40.  75.   2.5 75.\n",
      " 75.   2.5 20.  50.  25.   2.5 75.  50.   2.5 50.   5.   2.5 50.  10.\n",
      "  2.5 50.  10.   2.5 40.   5.  15.   2.5 50.   7.5  2.5 10.  50.   2.5\n",
      " 10.  50.   2.5 40.  40.   5.   5.  50.  15.  15.   2.5 50.  15.  15.\n",
      "  2.5 50.  15.  15.   2.5 40.  15.  15.   2.5 40.   5.  15.  15.   2.5\n",
      " 75.  15.  15.   2.5 25.  25.   5.   5.   7.5 25.   5.   5.   7.5 25.\n",
      " 25.   5.  25.  25.   5.  25.   5.   5.   5.   5.  50.   5.   5.   5.\n",
      " 50.  75.   7.5 50.   5.   5.   5.  50.   1.  75.   1.5 50.   1.5 50.\n",
      "  1.  50.  10.   1.  25.  50.  50.   2.5 20.  50.  25.   2.5 75.  50.\n",
      "  2.5 50.   5.   2.5 50.  10.   2.5 50.  10.   2.5 40.   5.  15.   2.5\n",
      " 50.   7.5  2.5 10.  50.   2.5 10.  50.   2.5 75.  15.  15.   2.5 50.\n",
      " 15.  15.   2.5 50.  15.  15.   2.5 50.  15.  15.   2.5 40.  15.  15.\n",
      "  2.5 40.   5.  15.  15.   2.5 25.  25.   5.   5.   7.5 25.  25.   5.\n",
      " 25.   5.   5.   5.   5.  50.  10.   5.   5.  50.  75.   7.5 50.   5.\n",
      "  5.   5. ]' has dtype incompatible with int64, please explicitly cast to a compatible dtype first.\n",
      "  df.loc[df[\"是否可半份\"] == 1, \"unit_weight\"] /= 2\n"
     ]
    }
   ],
   "execution_count": 39
  },
  {
   "metadata": {
    "ExecuteTime": {
     "end_time": "2025-05-02T08:36:43.874382Z",
     "start_time": "2025-05-02T08:36:43.861409Z"
    }
   },
   "cell_type": "code",
   "source": [
    "aas_ref = {\n",
    "    \"异亮氨酸 (mg/100g)\": 40,\n",
    "    \"亮氨酸 (mg/100g)\": 70,\n",
    "    \"赖氨酸 (mg/100g)\": 55,\n",
    "    \"含硫氨基酸(SAA)_Total (mg/100g)\": 35,\n",
    "    \"芳香族氨基酸(AAA)_Total (mg/100g)\": 60,\n",
    "    \"苏氨酸 (mg/100g)\": 40,\n",
    "    \"色氨酸 (mg/100g)\": 10,\n",
    "    \"缬氨酸 (mg/100g)\": 50,\n",
    "}\n"
   ],
   "id": "da4c965b66642fcc",
   "outputs": [],
   "execution_count": 28
  },
  {
   "metadata": {
    "ExecuteTime": {
     "end_time": "2025-05-02T08:36:50.646119Z",
     "start_time": "2025-05-02T08:36:50.642131Z"
    }
   },
   "cell_type": "code",
   "source": [
    "# ✅ 创建三餐 AAS 评分变量（连续变量）\n",
    "z_b = LpVariable(\"z_b\", lowBound=0)\n",
    "z_l = LpVariable(\"z_l\", lowBound=0)\n",
    "z_d = LpVariable(\"z_d\", lowBound=0)\n",
    "\n",
    "# ✅ 初始化模型\n",
    "model = LpProblem(\"最大化三餐AAS评分\", LpMaximize)\n",
    "\n",
    "# ✅ 设置目标函数\n",
    "model += z_b + z_l + z_d, \"总AAS评分最大化\"\n"
   ],
   "id": "7b1dacf026c41639",
   "outputs": [],
   "execution_count": 29
  },
  {
   "metadata": {
    "ExecuteTime": {
     "end_time": "2025-05-02T08:36:55.046183Z",
     "start_time": "2025-05-02T08:36:55.036660Z"
    }
   },
   "cell_type": "code",
   "source": [
    "def add_aas_constraints_approx(model, df, z_var, meal_name, P_ref=30):\n",
    "    \"\"\"\n",
    "    为指定餐次添加线性近似的AAS评分约束：\n",
    "        z_m <= AA_j / (R_j * P_ref)\n",
    "    \"\"\"\n",
    "    df_sub = df[df[\"meal\"] == meal_name]\n",
    "\n",
    "    for aa_col, ref_value in aas_ref.items():\n",
    "        aa_expr = lpSum([\n",
    "            row[\"x_var\"] * row[\"unit_weight\"] * row[aa_col] / 100\n",
    "            for _, row in df_sub.iterrows()\n",
    "        ])\n",
    "        model += z_var <= aa_expr / (ref_value * P_ref)\n"
   ],
   "id": "defe2f6ae4c4feb3",
   "outputs": [],
   "execution_count": 30
  },
  {
   "metadata": {
    "ExecuteTime": {
     "end_time": "2025-05-02T08:37:01.141399Z",
     "start_time": "2025-05-02T08:37:01.007115Z"
    }
   },
   "cell_type": "code",
   "source": [
    "add_aas_constraints_approx(model, df, z_b, \"早餐\")\n",
    "add_aas_constraints_approx(model, df, z_l, \"午餐\")\n",
    "add_aas_constraints_approx(model, df, z_d, \"晚餐\")\n"
   ],
   "id": "8c48b46003961eff",
   "outputs": [],
   "execution_count": 31
  },
  {
   "metadata": {
    "ExecuteTime": {
     "end_time": "2025-05-02T08:37:38.471467Z",
     "start_time": "2025-05-02T08:37:38.438612Z"
    }
   },
   "cell_type": "code",
   "source": [
    "# ✅ 定义总能量表达式\n",
    "E_total = lpSum([\n",
    "    row[\"x_var\"] * row[\"unit_weight\"] * row[\"能量 (kcal/100g)\"] / 100\n",
    "    for _, row in df.iterrows()\n",
    "])\n",
    "\n",
    "# ✅ 添加上下限约束\n",
    "model += E_total >= 2400 * 0.9, \"总能量下限_90%\"\n",
    "model += E_total <= 2400 * 1.1, \"总能量上限_110%\"\n"
   ],
   "id": "dbb81fcdaa561721",
   "outputs": [],
   "execution_count": 32
  },
  {
   "metadata": {
    "ExecuteTime": {
     "end_time": "2025-05-02T08:38:12.097510Z",
     "start_time": "2025-05-02T08:38:12.042840Z"
    }
   },
   "cell_type": "code",
   "source": [
    "# 蛋白质供能（4 kcal/g）\n",
    "E_p = lpSum([\n",
    "    row[\"x_var\"] * row[\"unit_weight\"] * row[\"蛋白质 (g/100g)\"] / 100 * 4\n",
    "    for _, row in df.iterrows()\n",
    "])\n",
    "\n",
    "# 脂肪供能（9 kcal/g）\n",
    "E_f = lpSum([\n",
    "    row[\"x_var\"] * row[\"unit_weight\"] * row[\"脂肪 (g/100g)\"] / 100 * 9\n",
    "    for _, row in df.iterrows()\n",
    "])\n",
    "\n",
    "# 碳水供能（4 kcal/g）\n",
    "E_c = lpSum([\n",
    "    row[\"x_var\"] * row[\"unit_weight\"] * row[\"碳水化合物 (g/100g)\"] / 100 * 4\n",
    "    for _, row in df.iterrows()\n",
    "])\n"
   ],
   "id": "7f2feecf4481059",
   "outputs": [],
   "execution_count": 33
  },
  {
   "metadata": {
    "ExecuteTime": {
     "end_time": "2025-05-02T08:38:13.710639Z",
     "start_time": "2025-05-02T08:38:13.703001Z"
    }
   },
   "cell_type": "code",
   "source": [
    "model += E_p >= 0.10 * E_total, \"蛋白质供能下限\"\n",
    "model += E_p <= 0.15 * E_total, \"蛋白质供能上限\"\n",
    "\n",
    "model += E_f >= 0.20 * E_total, \"脂肪供能下限\"\n",
    "model += E_f <= 0.30 * E_total, \"脂肪供能上限\"\n",
    "\n",
    "model += E_c >= 0.50 * E_total, \"碳水供能下限\"\n",
    "model += E_c <= 0.65 * E_total, \"碳水供能上限\"\n"
   ],
   "id": "51ab28e46c99a286",
   "outputs": [],
   "execution_count": 34
  },
  {
   "metadata": {
    "ExecuteTime": {
     "end_time": "2025-05-02T08:41:11.109431Z",
     "start_time": "2025-05-02T08:41:11.054668Z"
    }
   },
   "cell_type": "code",
   "source": [
    "# 宏量营养素推荐摄入范围（单位：g）\n",
    "macro_range = {\n",
    "    \"蛋白质 (g/100g)\": (60, 90),\n",
    "    \"脂肪 (g/100g)\": (53.3, 80),\n",
    "    \"碳水化合物 (g/100g)\": (300, 390),\n",
    "}\n",
    "\n",
    "for col, (lower, upper) in macro_range.items():\n",
    "    expr = lpSum([\n",
    "        row[\"x_var\"] * row[\"unit_weight\"] * row[col] / 100\n",
    "        for _, row in df.iterrows()\n",
    "    ])\n",
    "    model += expr >= 0.95 * lower, f\"{col}_摄入下限_95%1\"\n",
    "    model += expr <= 1.05 * upper, f\"{col}_摄入上限_105%1\"\n"
   ],
   "id": "eb93b3fbfffb12ee",
   "outputs": [],
   "execution_count": 38
  },
  {
   "metadata": {
    "ExecuteTime": {
     "end_time": "2025-05-02T08:42:07.994202Z",
     "start_time": "2025-05-02T08:42:07.863801Z"
    }
   },
   "cell_type": "code",
   "source": [
    "# 微量营养素推荐摄入值（单位见下）\n",
    "micronutrient_limits = {\n",
    "    \"钙 (mg/100g)\": 800,\n",
    "    \"铁 (mg/100g)\": 12,\n",
    "    \"锌 (mg/100g)\": 12.5,\n",
    "    \"总维生素A (μg/100g)\": 800,\n",
    "    \"硫胺素 (μg/100g)\": 1400,   # μg，需要转 mg\n",
    "    \"核黄素 (mg/100g)\": 1.4,\n",
    "    \"维生素C (mg/100g)\": 100,\n",
    "}\n",
    "\n",
    "for col, ref in micronutrient_limits.items():\n",
    "    # ✅ 单位转换：VB1字段是 μg，要除以1000转成 mg\n",
    "    factor = 1 / 1000 if col == \"硫胺素 (μg/100g)\" else 1\n",
    "\n",
    "    expr = lpSum([\n",
    "        row[\"x_var\"] * row[\"unit_weight\"] * row[col] / 100 * factor\n",
    "        for _, row in df.iterrows()\n",
    "    ])\n",
    "\n",
    "    model += expr >= 0.95 * ref * factor, f\"{col}_摄入下限_95%\"\n",
    "    model += expr <= 1.05 * ref * factor, f\"{col}_摄入上限_105%\"\n"
   ],
   "id": "4675a3177ea43ab7",
   "outputs": [],
   "execution_count": 40
  },
  {
   "metadata": {
    "ExecuteTime": {
     "end_time": "2025-05-02T08:42:53.306048Z",
     "start_time": "2025-05-02T08:42:53.267086Z"
    }
   },
   "cell_type": "code",
   "source": [
    "df[\"y_var\"] = [\n",
    "    LpVariable(f\"y_{i}\", cat=\"Binary\")\n",
    "    for i in range(len(df))\n",
    "]\n",
    "\n",
    "for _, row in df.iterrows():\n",
    "    model += row[\"x_var\"] <= row[\"x_upper\"] * row[\"y_var\"], f\"链接_x_y_{row.name}\"\n",
    "\n",
    "model += lpSum(df[\"y_var\"]) >= 12, \"每日食物种类不少于12\"\n",
    "\n",
    "for meal in [\"早餐\", \"午餐\", \"晚餐\"]:\n",
    "    model += lpSum(df[df[\"meal\"] == meal][\"y_var\"]) <= 7, f\"{meal}_食物种类不超过7\"\n"
   ],
   "id": "33e3e704be06de93",
   "outputs": [],
   "execution_count": 41
  },
  {
   "metadata": {
    "ExecuteTime": {
     "end_time": "2025-05-02T08:44:29.612081Z",
     "start_time": "2025-05-02T08:44:29.511952Z"
    }
   },
   "cell_type": "code",
   "source": [
    "model.solve(PULP_CBC_CMD(msg=True))  # 设置 msg=True 查看详细过程\n",
    "print(f\"模型求解状态：{LpStatus[model.status]}\")\n",
    "df[\"x_opt\"] = df[\"x_var\"].apply(value)\n",
    "df[\"y_opt\"] = df[\"y_var\"].apply(value)\n",
    "for meal in [\"早餐\", \"午餐\", \"晚餐\"]:\n",
    "    print(f\"\\n🍽 {meal} 推荐菜品：\")\n",
    "    df_meal = df[(df[\"meal\"] == meal) & (df[\"x_opt\"] > 0)]\n",
    "    for _, row in df_meal.iterrows():\n",
    "        grams = row[\"unit_weight\"] * row[\"x_opt\"]\n",
    "        print(f\" - {row['food_name']}：{row['x_opt']} 份（约 {grams:.1f} 克）\")\n",
    "print(\"\\n🥩 三餐 AAS评分：\")\n",
    "print(f\" - 早餐 AAS：{value(z_b):.4f}\")\n",
    "print(f\" - 午餐 AAS：{value(z_l):.4f}\")\n",
    "print(f\" - 晚餐 AAS：{value(z_d):.4f}\")\n",
    "print(f\" - 总AAS得分：{value(z_b + z_l + z_d):.4f}\")\n",
    "df[\"E_kcal\"] = df[\"x_opt\"] * df[\"unit_weight\"] * df[\"能量 (kcal/100g)\"] / 100\n",
    "df[\"P_g\"] = df[\"x_opt\"] * df[\"unit_weight\"] * df[\"蛋白质 (g/100g)\"] / 100\n",
    "df[\"F_g\"] = df[\"x_opt\"] * df[\"unit_weight\"] * df[\"脂肪 (g/100g)\"] / 100\n",
    "df[\"C_g\"] = df[\"x_opt\"] * df[\"unit_weight\"] * df[\"碳水化合物 (g/100g)\"] / 100\n",
    "\n",
    "E_total_val = df[\"E_kcal\"].sum()\n",
    "E_P = df[\"P_g\"].sum() * 4\n",
    "E_F = df[\"F_g\"].sum() * 9\n",
    "E_C = df[\"C_g\"].sum() * 4\n",
    "\n",
    "print(f\"\\n🔥 总能量摄入：{E_total_val:.1f} kcal\")\n",
    "print(f\" - 蛋白质占比：{E_P / E_total_val:.2%}\")\n",
    "print(f\" - 脂肪占比：{E_F / E_total_val:.2%}\")\n",
    "print(f\" - 碳水占比：{E_C / E_total_val:.2%}\")\n",
    "def summarize_nutrients(df):\n",
    "    nutrients = {\n",
    "        \"能量 (kcal)\": \"能量 (kcal/100g)\",\n",
    "        \"蛋白质 (g)\": \"蛋白质 (g/100g)\",\n",
    "        \"脂肪 (g)\": \"脂肪 (g/100g)\",\n",
    "        \"碳水化合物 (g)\": \"碳水化合物 (g/100g)\",\n",
    "        \"钙 (mg)\": \"钙 (mg/100g)\",\n",
    "        \"铁 (mg)\": \"铁 (mg/100g)\",\n",
    "        \"锌 (mg)\": \"锌 (mg/100g)\",\n",
    "        \"维生素A (μg)\": \"总维生素A (μg/100g)\",\n",
    "        \"维生素B1 (mg)\": \"硫胺素 (μg/100g)\",  # 需换单位\n",
    "        \"维生素B2 (mg)\": \"核黄素 (mg/100g)\",\n",
    "        \"维生素C (mg)\": \"维生素C (mg/100g)\"\n",
    "    }\n",
    "\n",
    "    print(\"\\n📊 营养素摄入总量汇总：\")\n",
    "    for name, col in nutrients.items():\n",
    "        if col not in df.columns:\n",
    "            continue\n",
    "        factor = 1 / 1000 if \"B1\" in name else 1\n",
    "        total = (df[\"x_opt\"] * df[\"unit_weight\"] * df[col] / 100 * factor).sum()\n",
    "        print(f\" - {name}: {total:.2f}\")\n"
   ],
   "id": "b5690f7d08f026dc",
   "outputs": [
    {
     "ename": "PulpSolverError",
     "evalue": "Pulp: Error while executing E:\\anaconda\\envs\\py310\\lib\\site-packages\\pulp\\apis\\../solverdir/cbc/win/i64/cbc.exe",
     "output_type": "error",
     "traceback": [
      "\u001B[1;31m---------------------------------------------------------------------------\u001B[0m",
      "\u001B[1;31mPulpSolverError\u001B[0m                           Traceback (most recent call last)",
      "Cell \u001B[1;32mIn[43], line 1\u001B[0m\n\u001B[1;32m----> 1\u001B[0m \u001B[43mmodel\u001B[49m\u001B[38;5;241;43m.\u001B[39;49m\u001B[43msolve\u001B[49m\u001B[43m(\u001B[49m\u001B[43mPULP_CBC_CMD\u001B[49m\u001B[43m(\u001B[49m\u001B[43mmsg\u001B[49m\u001B[38;5;241;43m=\u001B[39;49m\u001B[38;5;28;43;01mTrue\u001B[39;49;00m\u001B[43m)\u001B[49m\u001B[43m)\u001B[49m  \u001B[38;5;66;03m# 设置 msg=True 查看详细过程\u001B[39;00m\n\u001B[0;32m      2\u001B[0m \u001B[38;5;28mprint\u001B[39m(\u001B[38;5;124mf\u001B[39m\u001B[38;5;124m\"\u001B[39m\u001B[38;5;124m模型求解状态：\u001B[39m\u001B[38;5;132;01m{\u001B[39;00mLpStatus[model\u001B[38;5;241m.\u001B[39mstatus]\u001B[38;5;132;01m}\u001B[39;00m\u001B[38;5;124m\"\u001B[39m)\n\u001B[0;32m      3\u001B[0m df[\u001B[38;5;124m\"\u001B[39m\u001B[38;5;124mx_opt\u001B[39m\u001B[38;5;124m\"\u001B[39m] \u001B[38;5;241m=\u001B[39m df[\u001B[38;5;124m\"\u001B[39m\u001B[38;5;124mx_var\u001B[39m\u001B[38;5;124m\"\u001B[39m]\u001B[38;5;241m.\u001B[39mapply(value)\n",
      "File \u001B[1;32mE:\\anaconda\\envs\\py310\\lib\\site-packages\\pulp\\pulp.py:2007\u001B[0m, in \u001B[0;36mLpProblem.solve\u001B[1;34m(self, solver, **kwargs)\u001B[0m\n\u001B[0;32m   2005\u001B[0m \u001B[38;5;66;03m# time it\u001B[39;00m\n\u001B[0;32m   2006\u001B[0m \u001B[38;5;28mself\u001B[39m\u001B[38;5;241m.\u001B[39mstartClock()\n\u001B[1;32m-> 2007\u001B[0m status \u001B[38;5;241m=\u001B[39m solver\u001B[38;5;241m.\u001B[39mactualSolve(\u001B[38;5;28mself\u001B[39m, \u001B[38;5;241m*\u001B[39m\u001B[38;5;241m*\u001B[39mkwargs)\n\u001B[0;32m   2008\u001B[0m \u001B[38;5;28mself\u001B[39m\u001B[38;5;241m.\u001B[39mstopClock()\n\u001B[0;32m   2009\u001B[0m \u001B[38;5;28mself\u001B[39m\u001B[38;5;241m.\u001B[39mrestoreObjective(wasNone, dummyVar)\n",
      "File \u001B[1;32mE:\\anaconda\\envs\\py310\\lib\\site-packages\\pulp\\apis\\coin_api.py:128\u001B[0m, in \u001B[0;36mCOIN_CMD.actualSolve\u001B[1;34m(self, lp, **kwargs)\u001B[0m\n\u001B[0;32m    126\u001B[0m \u001B[38;5;28;01mdef\u001B[39;00m\u001B[38;5;250m \u001B[39m\u001B[38;5;21mactualSolve\u001B[39m(\u001B[38;5;28mself\u001B[39m, lp: LpProblem, \u001B[38;5;241m*\u001B[39m\u001B[38;5;241m*\u001B[39mkwargs):\n\u001B[0;32m    127\u001B[0m \u001B[38;5;250m    \u001B[39m\u001B[38;5;124;03m\"\"\"Solve a well formulated lp problem\"\"\"\u001B[39;00m\n\u001B[1;32m--> 128\u001B[0m     \u001B[38;5;28;01mreturn\u001B[39;00m \u001B[38;5;28mself\u001B[39m\u001B[38;5;241m.\u001B[39msolve_CBC(lp, \u001B[38;5;241m*\u001B[39m\u001B[38;5;241m*\u001B[39mkwargs)\n",
      "File \u001B[1;32mE:\\anaconda\\envs\\py310\\lib\\site-packages\\pulp\\apis\\coin_api.py:219\u001B[0m, in \u001B[0;36mCOIN_CMD.solve_CBC\u001B[1;34m(self, lp, use_mps)\u001B[0m\n\u001B[0;32m    216\u001B[0m     \u001B[38;5;28;01mpass\u001B[39;00m\n\u001B[0;32m    218\u001B[0m \u001B[38;5;28;01mif\u001B[39;00m \u001B[38;5;129;01mnot\u001B[39;00m os\u001B[38;5;241m.\u001B[39mpath\u001B[38;5;241m.\u001B[39mexists(tmpSol):\n\u001B[1;32m--> 219\u001B[0m     \u001B[38;5;28;01mraise\u001B[39;00m PulpSolverError(\u001B[38;5;124m\"\u001B[39m\u001B[38;5;124mPulp: Error while executing \u001B[39m\u001B[38;5;124m\"\u001B[39m \u001B[38;5;241m+\u001B[39m \u001B[38;5;28mself\u001B[39m\u001B[38;5;241m.\u001B[39mpath)\n\u001B[0;32m    220\u001B[0m (\n\u001B[0;32m    221\u001B[0m     status,\n\u001B[0;32m    222\u001B[0m     values,\n\u001B[1;32m   (...)\u001B[0m\n\u001B[0;32m    226\u001B[0m     sol_status,\n\u001B[0;32m    227\u001B[0m ) \u001B[38;5;241m=\u001B[39m \u001B[38;5;28mself\u001B[39m\u001B[38;5;241m.\u001B[39mreadsol_MPS(tmpSol, lp, vs, variablesNames, constraintsNames)\n\u001B[0;32m    228\u001B[0m lp\u001B[38;5;241m.\u001B[39massignVarsVals(values)\n",
      "\u001B[1;31mPulpSolverError\u001B[0m: Pulp: Error while executing E:\\anaconda\\envs\\py310\\lib\\site-packages\\pulp\\apis\\../solverdir/cbc/win/i64/cbc.exe"
     ]
    }
   ],
   "execution_count": 43
  }
 ],
 "metadata": {
  "kernelspec": {
   "display_name": "Python 3",
   "language": "python",
   "name": "python3"
  },
  "language_info": {
   "codemirror_mode": {
    "name": "ipython",
    "version": 2
   },
   "file_extension": ".py",
   "mimetype": "text/x-python",
   "name": "python",
   "nbconvert_exporter": "python",
   "pygments_lexer": "ipython2",
   "version": "2.7.6"
  }
 },
 "nbformat": 4,
 "nbformat_minor": 5
}
