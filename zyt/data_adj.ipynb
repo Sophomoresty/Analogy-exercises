{
 "cells": [
  {
   "metadata": {
    "ExecuteTime": {
     "end_time": "2025-05-01T14:16:52.862321Z",
     "start_time": "2025-05-01T14:16:52.328053Z"
    }
   },
   "cell_type": "code",
   "source": [
    "import pandas as pd\n",
    "\n",
    "# 设置文件路径\n",
    "file_path = r\"C:\\Users\\zhangyutang\\Desktop\\Electrician-s-Cup_5_1\\处理后的数据\\附件3_处理_final.xlsx\"\n",
    "\n",
    "# 读取 Excel 文件\n",
    "df = pd.read_excel(file_path)\n",
    "\n",
    "# 获取现有列名\n",
    "columns = df.columns.tolist()\n",
    "\n",
    "# 修改特定列名\n",
    "columns[8] = \"水分 (g/100g)\"  # 第9列\n",
    "columns[9] = \"能量 (kcal/100g)\"  # 第10列\n",
    "columns[10] = \"能量 (kJ/100g)\"  # 第11列\n",
    "columns[11] = \"蛋白质 (g/100g)\"  # 第12列\n",
    "columns[12] = \"脂肪 (g/100g)\"  # 第13列\n",
    "columns[13] = \"碳水化合物 (g/100g)\"  # 第14列\n",
    "columns[14] = \"不溶性膳食纤维 (g/100g)\"  # 第15列\n",
    "columns[15] = \"胆固醇 (mg/100g)\"  # 第16列\n",
    "columns[16] = \"灰分 (g/100g)\"  # 第17列\n",
    "columns[17] = \"总维生素A (μg/100g)\"  # 第18列\n",
    "columns[18] = \"胡萝卜素 (μg/100g)\"  # 第19列\n",
    "columns[19] = \"视黄醇 (μg/100g)\"  # 第20列\n",
    "columns[20] = \"硫胺素 (μg/100g)\"  # 第21列\n",
    "columns[21] = \"核黄素 (mg/100g)\"  # 第22列\n",
    "columns[22] = \"烟酸 (mg/100g)\"  # 第23列\n",
    "columns[23] = \"维生素C (mg/100g)\"  # 第24列\n",
    "\n",
    "# 修改从第25列到第34列的列名，添加“ (mg/100g)”\n",
    "for i in range(24, 34):  # 从第25列到第34列\n",
    "    columns[i] = columns[i] + \" (mg/100g)\"\n",
    "\n",
    "# 修改第35列的列名\n",
    "columns[34] = \"蛋白质.1 (g/100g)\"  # 第35列\n",
    "\n",
    "# 修改从第36列到第55列的列名，添加“ (mg/100g)”\n",
    "for i in range(35, 55):  # 从第36列到第55列\n",
    "    columns[i] = columns[i] + \" (mg/100g)\"\n",
    "\n",
    "# 将修改后的列名重新赋值给 DataFrame\n",
    "df.columns = columns\n",
    "\n",
    "# 显示修改后的列名\n",
    "print(df.columns)\n",
    "\n",
    "# 保存修改后的数据到新的文件\n",
    "output_file_path = r\"C:\\Users\\zhangyutang\\Desktop\\Electrician-s-Cup_5_1\\处理后的数据\\附件3_处理_final_modified.xlsx\"\n",
    "df.to_excel(output_file_path, index=False)\n",
    "\n",
    "print(f\"文件已保存到: {output_file_path}\")\n"
   ],
   "id": "c516cd477efb504",
   "outputs": [
    {
     "name": "stdout",
     "output_type": "stream",
     "text": [
      "Index(['餐次', '序号', '食物名称', '主要成分', '食物编码', '可食部\\n（克/份）', '价格\\n（元/份）',\n",
      "       '是否\\n可半份', '水分 (g/100g)', '能量 (kcal/100g)', '能量 (kJ/100g)',\n",
      "       '蛋白质 (g/100g)', '脂肪 (g/100g)', '碳水化合物 (g/100g)', '不溶性膳食纤维 (g/100g)',\n",
      "       '胆固醇 (mg/100g)', '灰分 (g/100g)', '总维生素A (μg/100g)', '胡萝卜素 (μg/100g)',\n",
      "       '视黄醇 (μg/100g)', '硫胺素 (μg/100g)', '核黄素 (mg/100g)', '烟酸 (mg/100g)',\n",
      "       '维生素C (mg/100g)', '钙 (mg/100g)', '磷 (mg/100g)', '钾 (mg/100g)',\n",
      "       '钠 (mg/100g)', '镁 (mg/100g)', '铁 (mg/100g)', '锌 (mg/100g)',\n",
      "       '硒 (mg/100g)', '铜 (mg/100g)', '锰 (mg/100g)', '蛋白质.1 (g/100g)',\n",
      "       '异亮氨酸 (mg/100g)', '亮氨酸 (mg/100g)', '赖氨酸 (mg/100g)',\n",
      "       '含硫氨基酸(SAA)_Total (mg/100g)', '含硫氨基酸(SAA)_蛋氨酸 (mg/100g)',\n",
      "       '含硫氨基酸(SAA)_胱氨酸 (mg/100g)', '芳香族氨基酸(AAA)_Total (mg/100g)',\n",
      "       '芳香族氨基酸(AAA)_苯丙氨酸 (mg/100g)', '芳香族氨基酸(AAA)_酪氨酸 (mg/100g)',\n",
      "       '苏氨酸 (mg/100g)', '色氨酸 (mg/100g)', '缬氨酸 (mg/100g)', '精氨酸 (mg/100g)',\n",
      "       '组氨酸 (mg/100g)', '丙氨酸 (mg/100g)', '天冬氨酸 (mg/100g)', '谷氨酸 (mg/100g)',\n",
      "       '甘氨酸 (mg/100g)', '脯氨酸 (mg/100g)', '丝氨酸 (mg/100g)'],\n",
      "      dtype='object')\n",
      "文件已保存到: C:\\Users\\zhangyutang\\Desktop\\Electrician-s-Cup_5_1\\处理后的数据\\附件3_处理_final_modified.xlsx\n"
     ]
    }
   ],
   "execution_count": 10
  },
  {
   "metadata": {},
   "cell_type": "code",
   "outputs": [],
   "execution_count": null,
   "source": "",
   "id": "46e6445e4c62ffba"
  }
 ],
 "metadata": {
  "kernelspec": {
   "display_name": "Python 3",
   "language": "python",
   "name": "python3"
  },
  "language_info": {
   "codemirror_mode": {
    "name": "ipython",
    "version": 2
   },
   "file_extension": ".py",
   "mimetype": "text/x-python",
   "name": "python",
   "nbconvert_exporter": "python",
   "pygments_lexer": "ipython2",
   "version": "2.7.6"
  }
 },
 "nbformat": 4,
 "nbformat_minor": 5
}
