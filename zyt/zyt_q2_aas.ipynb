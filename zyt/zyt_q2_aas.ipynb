{
 "cells": [
  {
   "cell_type": "code",
   "id": "initial_id",
   "metadata": {
    "collapsed": true,
    "ExecuteTime": {
     "end_time": "2025-05-01T12:31:27.308302Z",
     "start_time": "2025-05-01T12:31:27.291327Z"
    }
   },
   "source": [
    "import numpy as np\n",
    "import matplotlib.pyplot as plt\n",
    "import pandas as pd\n",
    "import seaborn as sns"
   ],
   "outputs": [],
   "execution_count": 91
  },
  {
   "metadata": {
    "ExecuteTime": {
     "end_time": "2025-05-01T12:31:30.576298Z",
     "start_time": "2025-05-01T12:31:30.381260Z"
    }
   },
   "cell_type": "code",
   "source": [
    "import pandas as pd\n",
    "\n",
    "# 文件路径（你本地的绝对路径）\n",
    "file_path = r\"C:\\Users\\zhangyutang\\Desktop\\Electrician-s-Cup_5_1\\sty\\数据处理_代码\\附件3_处理_final.xlsx\"\n",
    "\n",
    "# 读取 Excel 文件\n",
    "df = pd.read_excel(file_path)\n",
    "\n",
    "# 显示前几行数据\n",
    "print(\"--- 数据预览 ---\")\n",
    "print(df.head())\n",
    "\n",
    "# 显示所有列名\n",
    "print(\"\\n--- 列名列表 ---\")\n",
    "print(df.columns.tolist())\n",
    "\n",
    "# 显示数据维度（行数 × 列数）\n",
    "print(f\"\\n数据维度: {df.shape[0]} 行 × {df.shape[1]} 列\")"
   ],
   "id": "1d1bd5a18c196de6",
   "outputs": [
    {
     "name": "stdout",
     "output_type": "stream",
     "text": [
      "--- 数据预览 ---\n",
      "   餐次  序号 食物名称 主要成分     食物编码  可食部\\n（克/份）  价格\\n（元/份）  是否\\n可半份    水分  能量(kcal)  \\\n",
      "0  早餐   1   牛奶   牛奶  101101x         200        1.5        0  87.6        65   \n",
      "1  早餐   2   酸奶   酸奶   103001         125        1.5        0  85.5        70   \n",
      "2  早餐   3   豆浆   黄豆    31101          10        1.5        0  10.2       390   \n",
      "3  早餐   4  大米粥   稻米  012001x          15        0.5        0  13.3       346   \n",
      "4  早餐   5  小米粥   小米    15101          15        0.5        0  11.6       361   \n",
      "\n",
      "   ...  色氨酸   缬氨酸   精氨酸  组氨酸   丙氨酸  天冬氨酸   谷氨酸   甘氨酸   脯氨酸   丝氨酸  \n",
      "0  ...   54   178    94   78    94   229   639    54   289   166  \n",
      "1  ...   48   155    95   74    94   217   590    53   238   150  \n",
      "2  ...  455  1726  2840  968  1542  3997  6258  1600  1863  1846  \n",
      "3  ...  124   426   570  161   420   650  1250   305   324   360  \n",
      "4  ...  178   483   315  168   803   682  1871   245   658   408  \n",
      "\n",
      "[5 rows x 55 columns]\n",
      "\n",
      "--- 列名列表 ---\n",
      "['餐次', '序号', '食物名称', '主要成分', '食物编码', '可食部\\n（克/份）', '价格\\n（元/份）', '是否\\n可半份', '水分', '能量(kcal)', '能量(kJ)', '蛋白质', '脂肪', '碳水化合物', '不溶性膳食纤维', '胆固醇', '灰分', '总维生素A', '胡萝卜素', '视黄醇', '硫胺素', '核黄素', '烟酸', '维生素C', '钙', '磷', '钾', '钠', '镁', '铁', '锌', '硒', '铜', '锰', '蛋白质.1', '异亮氨酸', '亮氨酸', '赖氨酸', '含硫氨基酸(SAA)_Total', '含硫氨基酸(SAA)_蛋氨酸', '含硫氨基酸(SAA)_胱氨酸', '芳香族氨基酸(AAA)_Total', '芳香族氨基酸(AAA)_苯丙氨酸', '芳香族氨基酸(AAA)_酪氨酸', '苏氨酸', '色氨酸', '缬氨酸', '精氨酸', '组氨酸', '丙氨酸', '天冬氨酸', '谷氨酸', '甘氨酸', '脯氨酸', '丝氨酸']\n",
      "\n",
      "数据维度: 404 行 × 55 列\n"
     ]
    }
   ],
   "execution_count": 92
  },
  {
   "metadata": {
    "ExecuteTime": {
     "end_time": "2025-05-01T12:31:44.167577Z",
     "start_time": "2025-05-01T12:31:44.146560Z"
    }
   },
   "cell_type": "code",
   "source": [
    "# 复制原始数据\n",
    "df_model = df.copy()\n",
    "\n",
    "# 重命名关键字段（修改后）\n",
    "df_model.rename(columns={\n",
    "    '餐次': 'meal',\n",
    "    '食物名称': 'food_name',\n",
    "    '可食部\\n（克/份）': 'unit_weight',\n",
    "    '价格\\n（元/份）': 'price',\n",
    "    '是否\\n可半份': 'can_half',\n",
    "    '蛋白质': 'protein',\n",
    "    '脂肪': 'fat',\n",
    "    '碳水化合物': 'carb',\n",
    "    '异亮氨酸': 'isoleucine',\n",
    "    '亮氨酸': 'leucine',\n",
    "    '赖氨酸': 'lysine',\n",
    "    '苏氨酸': 'threonine',\n",
    "    '色氨酸': 'tryptophan',\n",
    "    '缬氨酸': 'valine',\n",
    "    '含硫氨基酸(SAA)_蛋氨酸': 'methionine',\n",
    "    '含硫氨基酸(SAA)_胱氨酸': 'cystine',\n",
    "    '芳香族氨基酸(AAA)_苯丙氨酸': 'phenylalanine',\n",
    "    '芳香族氨基酸(AAA)_酪氨酸': 'tyrosine',\n",
    "    '总维生素A': 'va',\n",
    "    '硫胺素': 'vb1',\n",
    "    '核黄素': 'vb2',\n",
    "    '维生素C': 'vc',\n",
    "    '钙': 'calcium',\n",
    "    '铁': 'iron',\n",
    "    '锌': 'zinc',\n",
    "    '能量(kcal)': 'energy'  # 重命名能量列\n",
    "}, inplace=True)\n",
    "\n",
    "# 合并字段：SAA（含硫氨基酸） = 蛋氨酸 + 胱氨酸\n",
    "df_model['saa'] = df_model['methionine'] + df_model['cystine']\n",
    "\n",
    "# 合并字段：AAA（芳香族氨基酸） = 苯丙氨酸 + 酪氨酸\n",
    "df_model['aaa'] = df_model['phenylalanine'] + df_model['tyrosine']\n",
    "\n",
    "# 添加微量营养素列\n",
    "micronutrient_columns = [\n",
    "    'calcium', 'iron', 'zinc', 'va', 'vb1', 'vb2', 'vc'\n",
    "]\n",
    "\n",
    "# 保留原来用于建模的字段 + 微量营养素\n",
    "columns_to_keep = [\n",
    "    'meal', 'food_name', 'unit_weight', 'price', 'can_half',\n",
    "    'protein', 'fat', 'carb',\n",
    "    'isoleucine', 'leucine', 'lysine', 'saa', 'aaa',\n",
    "    'threonine', 'tryptophan', 'valine',\n",
    "    'calcium', 'iron', 'zinc', 'va', 'vb1', 'vb2', 'vc', 'energy'\n",
    "]\n",
    "\n",
    "# 选取需要的列\n",
    "df_model = df_model[columns_to_keep]\n",
    "\n",
    "# 查看处理后的数据\n",
    "print(\"--- df_model 预览 ---\")\n",
    "print(df_model.head())\n",
    "print(\"\\n字段列表：\", df_model.columns.tolist())\n",
    "print(f\"数据维度：{df_model.shape[0]} 行 × {df_model.shape[1]} 列\")\n"
   ],
   "id": "edf0b93900af56d3",
   "outputs": [
    {
     "name": "stdout",
     "output_type": "stream",
     "text": [
      "--- df_model 预览 ---\n",
      "  meal food_name  unit_weight  price  can_half  protein   fat  carb  \\\n",
      "0   早餐        牛奶          200    1.5         0      3.3   3.6   4.9   \n",
      "1   早餐        酸奶          125    1.5         0      3.2   1.9  10.0   \n",
      "2   早餐        豆浆           10    1.5         0     35.0  16.0  34.2   \n",
      "3   早餐       大米粥           15    0.5         0      7.9   0.9  77.2   \n",
      "4   早餐       小米粥           15    0.5         0      9.0   3.1  75.1   \n",
      "\n",
      "   isoleucine  leucine  ...  tryptophan  valine  calcium  iron  zinc  va  \\\n",
      "0         146      291  ...          54     178      107   0.3  0.28  54   \n",
      "1         142      259  ...          48     155      140   0.2  0.54  19   \n",
      "2        1853     2819  ...         455    1726      191   8.2  3.34  18   \n",
      "3         319      611  ...         124     426        8   1.1  1.54   0   \n",
      "4         392     1166  ...         178     483       41   5.1  1.87   8   \n",
      "\n",
      "    vb1   vb2   vc  energy  \n",
      "0  0.03  0.12  0.0      65  \n",
      "1  0.03  0.14  1.0      70  \n",
      "2  0.41  0.20  0.0     390  \n",
      "3  0.15  0.04  0.0     346  \n",
      "4  0.33  0.10  0.0     361  \n",
      "\n",
      "[5 rows x 24 columns]\n",
      "\n",
      "字段列表： ['meal', 'food_name', 'unit_weight', 'price', 'can_half', 'protein', 'fat', 'carb', 'isoleucine', 'leucine', 'lysine', 'saa', 'aaa', 'threonine', 'tryptophan', 'valine', 'calcium', 'iron', 'zinc', 'va', 'vb1', 'vb2', 'vc', 'energy']\n",
      "数据维度：404 行 × 24 列\n"
     ]
    }
   ],
   "execution_count": 93
  },
  {
   "metadata": {
    "ExecuteTime": {
     "end_time": "2025-05-01T12:31:50.377443Z",
     "start_time": "2025-05-01T12:31:50.366957Z"
    }
   },
   "cell_type": "code",
   "source": [
    "from pulp import *\n",
    "\n",
    "# 优化模型标准建立\n",
    "\n",
    "# 推荐值字典（单位已匹配mg/μg/g）\n",
    "aas_ref = {\n",
    "    'isoleucine': 40,\n",
    "    'leucine': 70,\n",
    "    'lysine': 55,\n",
    "    'saa': 35,\n",
    "    'aaa': 60,\n",
    "    'threonine': 40,\n",
    "    'tryptophan': 10,\n",
    "    'valine': 50\n",
    "}\n",
    "\n",
    "# 三大营养素供能换算（kcal/g）\n",
    "energy_kcal_per_g = {'protein': 4, 'fat': 9, 'carb': 4}\n",
    "\n",
    "# 男生非产能营养素推荐值（每日）\n",
    "nutrient_recommend = {\n",
    "    'calcium': 800, 'iron': 12, 'zinc': 12.5, 'va': 800,\n",
    "    'vb1': 1.4, 'vb2': 1.4, 'vc': 100\n",
    "}\n"
   ],
   "id": "39832fce416391c3",
   "outputs": [],
   "execution_count": 94
  },
  {
   "metadata": {
    "ExecuteTime": {
     "end_time": "2025-05-01T12:31:54.115714Z",
     "start_time": "2025-05-01T12:31:54.084667Z"
    }
   },
   "cell_type": "code",
   "source": [
    "# 构建 PuLP 优化模型，目标为最大化三餐加权AAS得分\n",
    "model = LpProblem(\"最大化男生三餐混合蛋白AAS\", LpMaximize)\n",
    "\n",
    "# 三餐AAS评分变量：z_b (breakfast), z_l (lunch), z_d (dinner)\n",
    "z_b = LpVariable(\"AAS_breakfast\", lowBound=0)\n",
    "z_l = LpVariable(\"AAS_lunch\", lowBound=0)\n",
    "z_d = LpVariable(\"AAS_dinner\", lowBound=0)\n",
    "\n",
    "''''''\n",
    "\n",
    "# **定义 z_aux 在此**\n",
    "z_aux = LpVariable(\"z_aux\", lowBound=0)  # 辅助变量\n",
    "\n",
    "''''''\n",
    "\n",
    "# 创建决策变量：每道食物选几份（整数，0~3份），按三餐分别存储\n",
    "vars_b, vars_l, vars_d = {}, {}, {}\n",
    "\n",
    "for i, row in df_model.iterrows():\n",
    "    food = row['food_name']\n",
    "    meal = row['meal']\n",
    "\n",
    "    # 决策变量名：meal_菜名（如 早餐_牛奶）\n",
    "    var_name = f\"{meal}_{food}\"\n",
    "\n",
    "    # 创建整数变量，取值范围为 0~3 份（每道菜最多吃3份）\n",
    "    var = LpVariable(var_name, lowBound=0, upBound=3, cat=LpInteger)\n",
    "\n",
    "    # 按三餐分类放入对应变量集\n",
    "    if meal == '早餐':\n",
    "        vars_b[food] = var\n",
    "    elif meal == '午餐':\n",
    "        vars_l[food] = var\n",
    "    elif meal == '晚餐':\n",
    "        vars_d[food] = var\n"
   ],
   "id": "19505c45ba51bce2",
   "outputs": [],
   "execution_count": 95
  },
  {
   "metadata": {
    "ExecuteTime": {
     "end_time": "2025-05-01T12:31:56.921139Z",
     "start_time": "2025-05-01T12:31:56.574573Z"
    }
   },
   "cell_type": "code",
   "source": [
    "# 添加氨基酸评分约束\n",
    "def add_aas_constraints(model, df_model, vars_meal, z_var, meal_name):\n",
    "    for aa, ref in aas_ref.items():\n",
    "        # 计算该餐所有食物的氨基酸摄入量总和\n",
    "        aa_sum = lpSum([\n",
    "            vars_meal[f] *\n",
    "            df_model[(df_model['meal'] == meal_name) & (df_model['food_name'] == f)][aa].values[0] / 1000\n",
    "            for f in vars_meal\n",
    "        ])\n",
    "\n",
    "        # 创建约束名称\n",
    "        constraint_name = f\"AAS_{meal_name}_{aa}\"\n",
    "\n",
    "        # 检查是否已经存在相同的约束\n",
    "        if constraint_name not in model.constraints:\n",
    "            # 添加线性化约束：氨基酸总量 ≥ z_aux × 推荐值 × 总蛋白质\n",
    "            model += z_var <= aa_sum / ref, constraint_name\n",
    "\n",
    "\n",
    "# 对三餐分别添加约束\n",
    "add_aas_constraints(model, df_model, vars_b, z_b, '早餐')\n",
    "add_aas_constraints(model, df_model, vars_l, z_l, '午餐')\n",
    "add_aas_constraints(model, df_model, vars_d, z_d, '晚餐')\n",
    "\n",
    "\n",
    "\n"
   ],
   "id": "2b6d7fc988cf3d6a",
   "outputs": [],
   "execution_count": 96
  },
  {
   "metadata": {
    "ExecuteTime": {
     "end_time": "2025-05-01T12:32:01.008066Z",
     "start_time": "2025-05-01T12:32:00.584424Z"
    }
   },
   "cell_type": "code",
   "source": [
    "def add_macronutrient_energy_ratio_constraints(model, df_model, vars_meal, meal_name):\n",
    "\n",
    "    ''''''\n",
    "\n",
    "    energy_total = lpSum([\n",
    "        vars_meal[f] * df_model[df_model['meal'] == meal_name][nutrient].values[0] *\n",
    "        df_model[df_model['meal'] == meal_name]['unit_weight'].values[0] / 100 * energy_kcal_per_g[nutrient]\n",
    "        for f in vars_meal for nutrient in ['protein', 'fat', 'carb']\n",
    "    ])\n",
    "\n",
    "    ''''''\n",
    "\n",
    "    for nutrient, conversion_factor in energy_kcal_per_g.items():\n",
    "        # 计算该餐中该营养素的总能量\n",
    "        energy_nutrient = lpSum([\n",
    "            vars_meal[f] *\n",
    "            df_model[(df_model['meal'] == meal_name) & (df_model['food_name'] == f)][nutrient].values[0] *\n",
    "            df_model[(df_model['meal'] == meal_name) & (df_model['food_name'] == f)]['unit_weight'].values[0] / 100\n",
    "            for f in vars_meal\n",
    "        ]) * conversion_factor\n",
    "\n",
    "        # 为每个营养素添加能量比例约束\n",
    "        if nutrient == 'protein':\n",
    "            # 添加蛋白质能量的最小比例和最大比例约束\n",
    "            model += energy_nutrient >= 0.10 * energy_total, f\"Protein_energy_min_ratio_{meal_name}_protein\"\n",
    "            model += energy_nutrient <= 0.15 * energy_total, f\"Protein_energy_max_ratio_{meal_name}_protein\"\n",
    "        elif nutrient == 'fat':\n",
    "            # 添加脂肪能量的最小比例和最大比例约束\n",
    "            model += energy_nutrient >= 0.20 * energy_total, f\"Fat_energy_min_ratio_{meal_name}_fat\"\n",
    "            model += energy_nutrient <= 0.30 * energy_total, f\"Fat_energy_max_ratio_{meal_name}_fat\"\n",
    "        elif nutrient == 'carb':\n",
    "            # 添加碳水化合物能量的最小比例和最大比例约束\n",
    "            model += energy_nutrient >= 0.50 * energy_total, f\"Carb_energy_min_ratio_{meal_name}_carb\"\n",
    "            model += energy_nutrient <= 0.65 * energy_total, f\"Carb_energy_max_ratio_{meal_name}_carb\"\n",
    "\n",
    "# ✅ 应用约束到三餐\n",
    "add_macronutrient_energy_ratio_constraints(model, df_model, vars_b, '早餐')\n",
    "add_macronutrient_energy_ratio_constraints(model, df_model, vars_l, '午餐')\n",
    "add_macronutrient_energy_ratio_constraints(model, df_model, vars_d, '晚餐')\n"
   ],
   "id": "be262df29f7a153c",
   "outputs": [],
   "execution_count": 97
  },
  {
   "metadata": {
    "ExecuteTime": {
     "end_time": "2025-05-01T12:32:04.465511Z",
     "start_time": "2025-05-01T12:32:04.107637Z"
    }
   },
   "cell_type": "code",
   "source": [
    "def add_micronutrient_constraints(model, df_model, vars_meal, meal_name):\n",
    "    # 微量营养素推荐值\n",
    "    micronutrients = {\n",
    "        'calcium': 800,   # 钙\n",
    "        'iron': 12,       # 铁\n",
    "        'zinc': 12.5,     # 锌\n",
    "        'va': 800,        # 维生素A（μg）\n",
    "        'vb1': 1.4,       # 维生素B1（mg）\n",
    "        'vb2': 1.4,       # 维生素B2（mg）\n",
    "        'vc': 100         # 维生素C（mg）\n",
    "    }\n",
    "\n",
    "    # 预处理数据，将每个餐次的食物信息存入字典，减少每次筛选的开销\n",
    "    meal_data = {}\n",
    "    for meal in ['早餐', '午餐', '晚餐']:\n",
    "        meal_data[meal] = df_model[df_model['meal'] == meal]\n",
    "\n",
    "    # 遍历每个微量营养素并添加约束\n",
    "    for nutrient, ref in micronutrients.items():\n",
    "        # 计算该餐的微量营养素摄入总量\n",
    "        nutrient_sum = lpSum([\n",
    "            vars_meal[f] *\n",
    "            meal_data[meal_name][meal_data[meal_name]['food_name'] == f][nutrient].values[0] *\n",
    "            meal_data[meal_name][meal_data[meal_name]['food_name'] == f]['unit_weight'].values[0] / 100\n",
    "            for f in vars_meal\n",
    "        ])\n",
    "\n",
    "        # 为每个微量营养素添加唯一的约束名称\n",
    "        model += nutrient_sum >= ref, f\"{nutrient}_min_{meal_name}_{nutrient}\"\n",
    "\n",
    "# ✅ 为三餐添加微量营养素约束\n",
    "add_micronutrient_constraints(model, df_model, vars_b, '早餐')\n",
    "add_micronutrient_constraints(model, df_model, vars_l, '午餐')\n",
    "add_micronutrient_constraints(model, df_model, vars_d, '晚餐')\n"
   ],
   "id": "d983da5bc95038b2",
   "outputs": [],
   "execution_count": 98
  },
  {
   "metadata": {
    "ExecuteTime": {
     "end_time": "2025-05-01T12:32:08.769895Z",
     "start_time": "2025-05-01T12:32:08.754236Z"
    }
   },
   "cell_type": "code",
   "source": [
    "def add_food_types_constraint(model, vars_meal, meal_name):\n",
    "    # 每餐最多 6 种食物\n",
    "    # 为每个约束创建唯一名称，通过添加餐次信息和\"max_food_items\"来避免重复\n",
    "    model += lpSum([vars_meal[f] for f in vars_meal]) <= 6, f\"{meal_name}_max_food_items_constraint\"\n",
    "\n",
    "# ✅ 为三餐添加食物种类数量限制\n",
    "add_food_types_constraint(model, vars_b, '早餐')\n",
    "add_food_types_constraint(model, vars_l, '午餐')\n",
    "add_food_types_constraint(model, vars_d, '晚餐')\n"
   ],
   "id": "82cbc5cd917a2177",
   "outputs": [],
   "execution_count": 99
  },
  {
   "metadata": {
    "ExecuteTime": {
     "end_time": "2025-05-01T13:26:46.436775Z",
     "start_time": "2025-05-01T13:26:46.424058Z"
    }
   },
   "cell_type": "code",
   "source": [
    "# ✅ 目标函数：最大化三餐加权AAS得分\n",
    "model += z_b + z_l + z_d, \"最大化三餐AAS得分\"\n",
    "\n",
    "''''''\n",
    "\n",
    "# 为每餐添加食物种类数量的最小限制约束\n",
    "def add_food_types_constraint(model, vars_meal, meal_name, min_food_count=12):\n",
    "    # 计算该餐选择的不同食物种类数\n",
    "    food_count = lpSum([vars_meal[f] for f in vars_meal])\n",
    "\n",
    "    # 修改约束名称，确保唯一\n",
    "    constraint_name = f\"{meal_name}_food_count_min_{min_food_count}\"\n",
    "\n",
    "    # 添加约束：选择的食物种类数 >= 12\n",
    "    model += food_count >= min_food_count, constraint_name\n",
    "\n",
    "# 应用到每餐\n",
    "add_food_types_constraint(model, vars_b, '早餐')\n",
    "add_food_types_constraint(model, vars_l, '午餐')\n",
    "add_food_types_constraint(model, vars_d, '晚餐')\n",
    "\n"
   ],
   "id": "e4077ef89128e433",
   "outputs": [
    {
     "name": "stderr",
     "output_type": "stream",
     "text": [
      "E:\\anaconda\\envs\\py310\\lib\\site-packages\\pulp\\pulp.py:1780: UserWarning: Overwriting previously set objective.\n",
      "  warnings.warn(\"Overwriting previously set objective.\")\n"
     ]
    }
   ],
   "execution_count": 103
  },
  {
   "metadata": {
    "ExecuteTime": {
     "end_time": "2025-05-01T13:27:20.037984Z",
     "start_time": "2025-05-01T13:27:19.964191Z"
    }
   },
   "cell_type": "code",
   "source": [
    "# ✅ 求解模型\n",
    "model.solve(PULP_CBC_CMD(msg=True))\n",
    "\n",
    "# ✅ 打印求解结果\n",
    "print(f\"模型求解状态：{LpStatus[model.status]}\")\n",
    "\n",
    "# ✅ 打印三餐AAS得分\n",
    "print(f\"早餐AAS: {z_b.varValue}\")\n",
    "print(f\"午餐AAS: {z_l.varValue}\")\n",
    "print(f\"晚餐AAS: {z_d.varValue}\")\n",
    "\n",
    "# ✅ 打印每餐的食物选择（每道菜的选择份数）\n",
    "for meal, vars_meal in zip(['早餐', '午餐', '晚餐'], [vars_b, vars_l, vars_d]):\n",
    "    print(f\"\\n[{meal}] 推荐食物组合（每餐）：\")\n",
    "    for food, var in vars_meal.items():\n",
    "        if var.varValue > 0:  # 只显示选中的食物\n",
    "            print(f\"  {food}: {var.varValue} 份\")"
   ],
   "id": "a143f66f9e6eea17",
   "outputs": [
    {
     "name": "stdout",
     "output_type": "stream",
     "text": [
      "模型求解状态：Infeasible\n",
      "早餐AAS: -7.566541\n",
      "午餐AAS: -0.10089453\n",
      "晚餐AAS: -0.14422854\n",
      "\n",
      "[早餐] 推荐食物组合（每餐）：\n",
      "  酸奶: 3.0 份\n",
      "  大米饭: 3.0 份\n",
      "  馒头: 3.0 份\n",
      "  蒸地瓜: 3.0 份\n",
      "  水饺: 2.9602796 份\n",
      "  拌菠菜: 3.0 份\n",
      "  拌海带丝: 3.0 份\n",
      "  拌豆腐: 10.37117 份\n",
      "  拌土豆丝: 3.0 份\n",
      "  拌木耳: 113.18922 份\n",
      "  橙子: 364.74749 份\n",
      "\n",
      "[午餐] 推荐食物组合（每餐）：\n",
      "  大米饭: 3.0 份\n",
      "  南瓜粥: 10.500115 份\n",
      "  砂锅面: 3.0 份\n",
      "  包子: 3.0 份\n",
      "  馅饼: 3.0 份\n",
      "  鸡蛋饼: 3.0 份\n",
      "  土豆丝饼: 3.0 份\n",
      "  鸡蛋柿子汤: 3.0 份\n",
      "  菠菜汤: 1.5801414 份\n",
      "  海带炖白菜: 2.2857188 份\n",
      "  炒肉蒜台: 3.0 份\n",
      "  炒肉杏鲍菇: 3.256135 份\n",
      "  烧排骨: 2.2651179 份\n",
      "  香蕉: 3.0 份\n",
      "\n",
      "[晚餐] 推荐食物组合（每餐）：\n",
      "  拌菠菜: 4.8268444 份\n",
      "  鸡肉炖土豆胡萝卜: 3.2789848 份\n",
      "  明太鱼炖豆腐: 1.463284 份\n",
      "  木须柿子: 3.0 份\n",
      "  木须瓜片: 3.0 份\n",
      "  炒肉杏鲍菇: 5.3646121 份\n",
      "  溜肉段: 3.0 份\n",
      "  炒牛肉: 1.2698116 份\n"
     ]
    }
   ],
   "execution_count": 104
  },
  {
   "metadata": {},
   "cell_type": "code",
   "outputs": [],
   "execution_count": null,
   "source": "",
   "id": "17f3b8f5d60b408a"
  }
 ],
 "metadata": {
  "kernelspec": {
   "display_name": "Python 3",
   "language": "python",
   "name": "python3"
  },
  "language_info": {
   "codemirror_mode": {
    "name": "ipython",
    "version": 2
   },
   "file_extension": ".py",
   "mimetype": "text/x-python",
   "name": "python",
   "nbconvert_exporter": "python",
   "pygments_lexer": "ipython2",
   "version": "2.7.6"
  }
 },
 "nbformat": 4,
 "nbformat_minor": 5
}
