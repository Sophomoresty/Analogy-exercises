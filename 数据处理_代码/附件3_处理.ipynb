{
 "cells": [
  {
   "metadata": {
    "ExecuteTime": {
     "end_time": "2025-04-30T04:41:56.888780Z",
     "start_time": "2025-04-30T04:41:55.943257Z"
    }
   },
   "cell_type": "code",
   "source": [
    "import pandas as pd\n",
    "from sympy import false\n",
    "from sympy.physics.units import farad"
   ],
   "id": "2cedeb9924fe7c8c",
   "outputs": [],
   "execution_count": 1
  },
  {
   "metadata": {
    "ExecuteTime": {
     "end_time": "2025-04-30T04:41:56.904852Z",
     "start_time": "2025-04-30T04:41:56.898779Z"
    }
   },
   "cell_type": "code",
   "source": [
    "# --- 配置部分 ---\n",
    "file_path = './附件3_处理.xlsx'\n",
    "\n",
    "sheet_name = 'Sheet1' # 例如 'Sheet1', 'Sheet2' 等\n",
    "\n",
    "# 输出文件路径\n",
    "output_file_path = '附件3_处理_final.xlsx'\n",
    "\n",
    "# --- 配置部分结束 ---"
   ],
   "id": "20a853bdc699b28b",
   "outputs": [],
   "execution_count": 2
  },
  {
   "metadata": {
    "ExecuteTime": {
     "end_time": "2025-04-30T04:41:57.404224Z",
     "start_time": "2025-04-30T04:41:57.140706Z"
    }
   },
   "cell_type": "code",
   "source": [
    "df_orginal = pd.read_excel(file_path, sheet_name=sheet_name, header=0)\n",
    "\n",
    "print(f\"成功读取文件：{file_path}，工作表：{sheet_name}\")\n",
    "print(\"原始数据（部分）：\")\n",
    "print(df_orginal.head())"
   ],
   "id": "f5a116e83a07523a",
   "outputs": [
    {
     "name": "stdout",
     "output_type": "stream",
     "text": [
      "成功读取文件：./附件3_处理.xlsx，工作表：Sheet1\n",
      "原始数据（部分）：\n",
      "   餐次   序号 食物名称 主要成分     食物编码  可食部\\n（克/份）  价格\\n（元/份） 是否\\n可半份\n",
      "0  早餐  1.0   牛奶   牛奶  101101x         200        1.5       否\n",
      "1  早餐  2.0   酸奶   酸奶   103001         125        1.5       否\n",
      "2  早餐  3.0   豆浆   黄豆    31101          10        1.5       否\n",
      "3  早餐  4.0  大米粥   稻米  012001x          15        0.5       否\n",
      "4  早餐  5.0  小米粥   小米    15101          15        0.5       否\n"
     ]
    }
   ],
   "execution_count": 3
  },
  {
   "metadata": {},
   "cell_type": "markdown",
   "source": "## 填充",
   "id": "f636a2ae3b980cdc"
  },
  {
   "metadata": {
    "ExecuteTime": {
     "end_time": "2025-04-30T04:41:57.436223Z",
     "start_time": "2025-04-30T04:41:57.422222Z"
    }
   },
   "cell_type": "code",
   "source": [
    "# --- 自动识别需要填充的列 ---\n",
    "# 找到所有包含 NaN (空白) 值的列\n",
    "columns_with_blanks = df_orginal.columns[df_orginal.isnull().any()].tolist()\n",
    "\n",
    "if not columns_with_blanks:\n",
    "    print(\"\\n数据中没有发现任何空白单元格，无需填充。\")\n",
    "\n",
    "else:\n",
    "    print(f\"\\n识别到需要填充的列：{columns_with_blanks}\")\n",
    "\n",
    "    # 对自动识别到的列进行向下填充 (ffill = forward fill)\n",
    "    for col in columns_with_blanks:\n",
    "         df_orginal[col] = df_orginal[col].ffill()\n",
    "         # 打印，但为了简洁，只在处理完成后打印一次列表\n",
    "         # print(f\"已对列 '{col}' 进行向下填充。\")\n",
    "\n",
    "\n",
    "    print(f\"已对识别到的 {len(columns_with_blanks)} 列进行向下填充。\")\n",
    "    print(\"\\n填充后数据（部分）：\")\n",
    "    print(df_orginal.head())\n"
   ],
   "id": "5e4f7223caec861d",
   "outputs": [
    {
     "name": "stdout",
     "output_type": "stream",
     "text": [
      "\n",
      "识别到需要填充的列：['序号', '食物名称', '价格\\n（元/份）', '是否\\n可半份']\n",
      "已对识别到的 4 列进行向下填充。\n",
      "\n",
      "填充后数据（部分）：\n",
      "   餐次   序号 食物名称 主要成分     食物编码  可食部\\n（克/份）  价格\\n（元/份） 是否\\n可半份\n",
      "0  早餐  1.0   牛奶   牛奶  101101x         200        1.5       否\n",
      "1  早餐  2.0   酸奶   酸奶   103001         125        1.5       否\n",
      "2  早餐  3.0   豆浆   黄豆    31101          10        1.5       否\n",
      "3  早餐  4.0  大米粥   稻米  012001x          15        0.5       否\n",
      "4  早餐  5.0  小米粥   小米    15101          15        0.5       否\n"
     ]
    }
   ],
   "execution_count": 4
  },
  {
   "metadata": {},
   "cell_type": "markdown",
   "source": "## 替换是否为1,0",
   "id": "24488685c6eca107"
  },
  {
   "metadata": {
    "ExecuteTime": {
     "end_time": "2025-04-30T04:41:57.467448Z",
     "start_time": "2025-04-30T04:41:57.452449Z"
    }
   },
   "cell_type": "code",
   "source": [
    "replacement_map = {\n",
    "    '是': 1,\n",
    "    '否':0,\n",
    "}\n",
    "\n",
    "column_to_replace = '是否\\n可半份'\n",
    "df_orginal[column_to_replace] = df_orginal[column_to_replace].replace(replacement_map).infer_objects(copy=False)\n",
    "df_orginal[column_to_replace]"
   ],
   "id": "e4ef15e5edaeb10d",
   "outputs": [
    {
     "name": "stderr",
     "output_type": "stream",
     "text": [
      "C:\\Users\\Sophomores\\AppData\\Local\\Temp\\ipykernel_3432\\842274652.py:7: FutureWarning: Downcasting behavior in `replace` is deprecated and will be removed in a future version. To retain the old behavior, explicitly call `result.infer_objects(copy=False)`. To opt-in to the future behavior, set `pd.set_option('future.no_silent_downcasting', True)`\n",
      "  df_orginal[column_to_replace] = df_orginal[column_to_replace].replace(replacement_map).infer_objects(copy=False)\n"
     ]
    },
    {
     "data": {
      "text/plain": [
       "0      0\n",
       "1      0\n",
       "2      0\n",
       "3      0\n",
       "4      0\n",
       "      ..\n",
       "377    0\n",
       "378    0\n",
       "379    0\n",
       "380    0\n",
       "381    0\n",
       "Name: 是否\\n可半份, Length: 382, dtype: int64"
      ]
     },
     "execution_count": 5,
     "metadata": {},
     "output_type": "execute_result"
    }
   ],
   "execution_count": 5
  },
  {
   "metadata": {},
   "cell_type": "markdown",
   "source": [
    "## 添加数据并合并\n",
    "\n",
    "\"碳水化合物 (g/100g)\",\n",
    "\"蛋白质 (g/100g)\",\n",
    "\"脂肪 (g/100g)\",\n",
    "\"钙 (mg/100g)\",\n",
    "\"铁 (mg/100g)\",\n",
    "\"锌 (mg/100g)\",\n",
    "\"维生素A (μg/100g)\",\n",
    "\"维生素B1 (mg/100g)\",\n",
    "\"维生素B2 (mg/100g)\",\n",
    "\"维生素C (mg/100g)\",\n",
    "\"异亮氨酸 (g/100g)\",\n",
    "\"亮氨酸 (g/100g)\",\n",
    "\"赖氨酸 (g/100g)\",\n",
    "\"含硫氨基酸 (g/100g)\",\n",
    "\"芳香族氨基酸 (g/100g)\",\n",
    "\"苏氨酸 (g/100g)\",\n",
    "\"色氨酸 (g/100g)\",\n",
    "\"缬氨酸 (g/100g)\"\n"
   ],
   "id": "70fa8ba52ba7c061"
  },
  {
   "metadata": {
    "ExecuteTime": {
     "end_time": "2025-04-30T04:41:57.624270Z",
     "start_time": "2025-04-30T04:41:57.562559Z"
    }
   },
   "cell_type": "code",
   "source": [
    "merge_reference_file_path = r'2024电工杯B题 所有指标(完整表格) .xlsx'\n",
    "df_merge_reference = pd.read_excel(merge_reference_file_path)\n",
    "# 打印出来，查看具体的元组名称\n",
    "df_merge_reference.columns\n"
   ],
   "id": "adc2258f09408a0a",
   "outputs": [
    {
     "data": {
      "text/plain": [
       "Index(['主要成分', '食物编码', '水分', '能量(kcal)', '能量(kJ)', '蛋白质', '脂肪', '碳水化合物',\n",
       "       '不溶性膳食纤维', '胆固醇', '灰分', '总维生素A', '胡萝卜素', '视黄醇', '硫胺素', '核黄素', '烟酸',\n",
       "       '维生素C', '钙', '磷', '钾', '钠', '镁', '铁', '锌', '硒', '铜', '锰', '蛋白质.1',\n",
       "       '异亮氨酸', '亮氨酸', '赖氨酸', '含硫氨基酸(SAA)_Total', '含硫氨基酸(SAA)_蛋氨酸',\n",
       "       '含硫氨基酸(SAA)_胱氨酸', '芳香族氨基酸(AAA)_Total', '芳香族氨基酸(AAA)_苯丙氨酸',\n",
       "       '芳香族氨基酸(AAA)_酪氨酸', '苏氨酸', '色氨酸', '缬氨酸', '精氨酸', '组氨酸', '丙氨酸', '天冬氨酸',\n",
       "       '谷氨酸', '甘氨酸', '脯氨酸', '丝氨酸'],\n",
       "      dtype='object')"
      ]
     },
     "execution_count": 6,
     "metadata": {},
     "output_type": "execute_result"
    }
   ],
   "execution_count": 6
  },
  {
   "metadata": {
    "ExecuteTime": {
     "end_time": "2025-04-30T04:41:57.686708Z",
     "start_time": "2025-04-30T04:41:57.673651Z"
    }
   },
   "cell_type": "code",
   "source": [
    "# --- 合并的列名 ---\n",
    "df_merge_reference = df_merge_reference.drop(columns='主要成分')\n",
    "merge_column = '食物编码' # 用于合并的列名，确保在两表中都存在\n",
    "print(f\"\\n正在执行合并操作，使用列 '{merge_column}' 进行左合并...\")\n",
    "# how='left' 表示保留 df_original 中的所有行，并将 df_amino 中匹配的数据添加到对应行\n",
    "\n",
    "df_merged = pd.merge(\n",
    "    df_orginal,      # 左表 (主表)\n",
    "    df_merge_reference,         # 右表 (已简化列名的表)\n",
    "    on=merge_column,  # 指定合并的列，现在两边都是单层字符串名称\n",
    "    how='left'        # 合并方式，这里使用左合并\n",
    ")\n",
    "print(\"合并操作完成。\")\n",
    "\n",
    "print(\"\\n合并后的数据（部分）：\")\n",
    "print(df_merged.head())"
   ],
   "id": "c9a597559fbfaa57",
   "outputs": [
    {
     "name": "stdout",
     "output_type": "stream",
     "text": [
      "\n",
      "正在执行合并操作，使用列 '食物编码' 进行左合并...\n",
      "合并操作完成。\n",
      "\n",
      "合并后的数据（部分）：\n",
      "   餐次   序号 食物名称 主要成分     食物编码  可食部\\n（克/份）  价格\\n（元/份）  是否\\n可半份    水分  能量(kcal)  \\\n",
      "0  早餐  1.0   牛奶   牛奶  101101x         200        1.5        0  87.6        65   \n",
      "1  早餐  2.0   酸奶   酸奶   103001         125        1.5        0  85.5        70   \n",
      "2  早餐  3.0   豆浆   黄豆    31101          10        1.5        0  10.2       390   \n",
      "3  早餐  4.0  大米粥   稻米  012001x          15        0.5        0  13.3       346   \n",
      "4  早餐  5.0  小米粥   小米    15101          15        0.5        0  11.6       361   \n",
      "\n",
      "   ...  色氨酸   缬氨酸   精氨酸  组氨酸   丙氨酸  天冬氨酸   谷氨酸   甘氨酸   脯氨酸   丝氨酸  \n",
      "0  ...   54   178    94   78    94   229   639    54   289   166  \n",
      "1  ...   48   155    95   74    94   217   590    53   238   150  \n",
      "2  ...  455  1726  2840  968  1542  3997  6258  1600  1863  1846  \n",
      "3  ...  124   426   570  161   420   650  1250   305   324   360  \n",
      "4  ...  178   483   315  168   803   682  1871   245   658   408  \n",
      "\n",
      "[5 rows x 55 columns]\n"
     ]
    }
   ],
   "execution_count": 7
  },
  {
   "metadata": {
    "ExecuteTime": {
     "end_time": "2025-04-30T04:41:58.145703Z",
     "start_time": "2025-04-30T04:41:57.692717Z"
    }
   },
   "cell_type": "code",
   "source": [
    "df_merged.to_excel(output_file_path, index=False)\n",
    "print(\"数据保存完成。\")"
   ],
   "id": "b36550fae862020e",
   "outputs": [
    {
     "name": "stdout",
     "output_type": "stream",
     "text": [
      "数据保存完成。\n"
     ]
    }
   ],
   "execution_count": 8
  }
 ],
 "metadata": {
  "kernelspec": {
   "display_name": "Python 3",
   "language": "python",
   "name": "python3"
  },
  "language_info": {
   "codemirror_mode": {
    "name": "ipython",
    "version": 2
   },
   "file_extension": ".py",
   "mimetype": "text/x-python",
   "name": "python",
   "nbconvert_exporter": "python",
   "pygments_lexer": "ipython2",
   "version": "2.7.6"
  }
 },
 "nbformat": 4,
 "nbformat_minor": 5
}
